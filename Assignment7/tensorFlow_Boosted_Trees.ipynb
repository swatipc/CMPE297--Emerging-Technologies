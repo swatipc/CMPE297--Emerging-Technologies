{
  "nbformat": 4,
  "nbformat_minor": 0,
  "metadata": {
    "colab": {
      "name": "tensorFlow_Boosted_Trees.ipynb",
      "provenance": [],
      "collapsed_sections": []
    },
    "kernelspec": {
      "name": "python3",
      "display_name": "Python 3"
    }
  },
  "cells": [
    {
      "cell_type": "markdown",
      "metadata": {
        "id": "UmLmYJufyIDA"
      },
      "source": [
        "**TensorFlow Boosted Trees**"
      ]
    },
    {
      "cell_type": "code",
      "metadata": {
        "colab": {
          "base_uri": "https://localhost:8080/"
        },
        "id": "sJxQAdtExt9v",
        "outputId": "83d31182-15e2-4a2a-e7fc-341508e4ecf1"
      },
      "source": [
        "# Install stasmodels library\r\n",
        "!pip install statsmodels"
      ],
      "execution_count": 1,
      "outputs": [
        {
          "output_type": "stream",
          "text": [
            "Requirement already satisfied: statsmodels in /usr/local/lib/python3.6/dist-packages (0.10.2)\n",
            "Requirement already satisfied: numpy>=1.11 in /usr/local/lib/python3.6/dist-packages (from statsmodels) (1.18.5)\n",
            "Requirement already satisfied: patsy>=0.4.0 in /usr/local/lib/python3.6/dist-packages (from statsmodels) (0.5.1)\n",
            "Requirement already satisfied: scipy>=0.18 in /usr/local/lib/python3.6/dist-packages (from statsmodels) (1.4.1)\n",
            "Requirement already satisfied: pandas>=0.19 in /usr/local/lib/python3.6/dist-packages (from statsmodels) (1.1.5)\n",
            "Requirement already satisfied: six in /usr/local/lib/python3.6/dist-packages (from patsy>=0.4.0->statsmodels) (1.15.0)\n",
            "Requirement already satisfied: pytz>=2017.2 in /usr/local/lib/python3.6/dist-packages (from pandas>=0.19->statsmodels) (2018.9)\n",
            "Requirement already satisfied: python-dateutil>=2.7.3 in /usr/local/lib/python3.6/dist-packages (from pandas>=0.19->statsmodels) (2.8.1)\n"
          ],
          "name": "stdout"
        }
      ]
    },
    {
      "cell_type": "markdown",
      "metadata": {
        "id": "DWW2KkQBynJl"
      },
      "source": [
        "## Loading the titanic dataset"
      ]
    },
    {
      "cell_type": "code",
      "metadata": {
        "id": "SzfSJv1RyV_v"
      },
      "source": [
        "# Import required libraries\n",
        "import numpy as np\n",
        "import pandas as pd\n",
        "from IPython.display import clear_output\n",
        "import tensorflow as tf\n",
        "import matplotlib.pyplot as plt\n",
        "import seaborn as sns\n",
        "tf.random.set_seed(123)"
      ],
      "execution_count": 23,
      "outputs": []
    },
    {
      "cell_type": "code",
      "metadata": {
        "id": "A0THpT_1RVj1"
      },
      "source": [
        "# Load dataset\r\n",
        "train_data = pd.read_csv('https://storage.googleapis.com/tf-datasets/titanic/train.csv')\r\n",
        "eval_data = pd.read_csv('https://storage.googleapis.com/tf-datasets/titanic/eval.csv')\r\n",
        "y_train = train_data.pop('survived')\r\n",
        "y_eval = eval_data.pop('survived')"
      ],
      "execution_count": 3,
      "outputs": []
    },
    {
      "cell_type": "markdown",
      "metadata": {
        "id": "9wkI4pCCy6fI"
      },
      "source": [
        "**Preprocess the data**"
      ]
    },
    {
      "cell_type": "code",
      "metadata": {
        "id": "kfVCbNKHy3ER"
      },
      "source": [
        "fc = tf.feature_column\n",
        "CATEGORICAL_COLUMN = ['sex', 'n_siblings_spouses', 'parch', 'class', 'deck',\n",
        "                       'embark_town', 'alone']\n",
        "NUMERIC_COLUMN = ['age', 'fare']\n",
        "\n",
        "def one_hot_cat_column(feature_name, vocab):\n",
        "  return fc.indicator_column(fc.categorical_column_with_vocabulary_list(feature_name,vocab))\n",
        "feature_column = []\n",
        "for feature_name in CATEGORICAL_COLUMN:\n",
        "  # Need to one-hot encode categorical features.\n",
        "  vocabulary = train_data[feature_name].unique()\n",
        "  feature_column.append(one_hot_cat_column(feature_name, vocabulary))\n",
        "\n",
        "for feature_name in NUMERIC_COLUMN:\n",
        "  feature_column.append(fc.numeric_column(feature_name,dtype=tf.float32))"
      ],
      "execution_count": 6,
      "outputs": []
    },
    {
      "cell_type": "markdown",
      "metadata": {
        "id": "vdBVSTIXy_J-"
      },
      "source": [
        "**Build input pipeline**"
      ]
    },
    {
      "cell_type": "code",
      "metadata": {
        "id": "NNaw_xE5y8LH"
      },
      "source": [
        "\n",
        "def make_input_fn(x, y, n_epochs=None, shuffle=True):\n",
        "  def input_fn():\n",
        "    dataset = tf.data.Dataset.from_tensor_slices((x.to_dict(orient='list'), y))\n",
        "    if shuffle:\n",
        "      dataset = dataset.shuffle(len(y_train))\n",
        "    # For training, cycle thru dataset as many times as need (n_epochs=None).\n",
        "    dataset = (dataset\n",
        "      .repeat(n_epochs)\n",
        "      .batch(len(y_train)))\n",
        "    return dataset\n",
        "  return input_fn\n"
      ],
      "execution_count": 15,
      "outputs": []
    },
    {
      "cell_type": "code",
      "metadata": {
        "id": "lz6w1mseS0fI"
      },
      "source": [
        "# Train and evaluate input functions\r\n",
        "train_input_fn = make_input_fn(train_data, y_train)\r\n",
        "eval_input_fn = make_input_fn(eval_data, y_eval, shuffle=False, n_epochs=2)"
      ],
      "execution_count": 16,
      "outputs": []
    },
    {
      "cell_type": "markdown",
      "metadata": {
        "id": "iSRkCJXOzEcq"
      },
      "source": [
        "**Train the model**"
      ]
    },
    {
      "cell_type": "code",
      "metadata": {
        "colab": {
          "base_uri": "https://localhost:8080/"
        },
        "id": "211SA8npzBcQ",
        "outputId": "d46e63c0-0a89-4051-c76f-4c5ad03bc351"
      },
      "source": [
        "# Define parameters\n",
        "params = {\n",
        "  'n_trees': 50,\n",
        "  'max_depth': 3,\n",
        "  'n_batches_per_layer': 1,\n",
        "  'center_bias': True\n",
        "}\n",
        "\n",
        "estimator = tf.estimator.BoostedTreesClassifier(feature_column, **params)\n"
      ],
      "execution_count": 17,
      "outputs": [
        {
          "output_type": "stream",
          "text": [
            "INFO:tensorflow:Using default config.\n",
            "WARNING:tensorflow:Using temporary folder as model directory: /tmp/tmppfwm4ulh\n",
            "INFO:tensorflow:Using config: {'_model_dir': '/tmp/tmppfwm4ulh', '_tf_random_seed': None, '_save_summary_steps': 100, '_save_checkpoints_steps': None, '_save_checkpoints_secs': 600, '_session_config': allow_soft_placement: true\n",
            "graph_options {\n",
            "  rewrite_options {\n",
            "    meta_optimizer_iterations: ONE\n",
            "  }\n",
            "}\n",
            ", '_keep_checkpoint_max': 5, '_keep_checkpoint_every_n_hours': 10000, '_log_step_count_steps': 100, '_train_distribute': None, '_device_fn': None, '_protocol': None, '_eval_distribute': None, '_experimental_distribute': None, '_experimental_max_worker_delay_secs': None, '_session_creation_timeout_secs': 7200, '_service': None, '_cluster_spec': ClusterSpec({}), '_task_type': 'worker', '_task_id': 0, '_global_id_in_cluster': 0, '_master': '', '_evaluation_master': '', '_is_chief': True, '_num_ps_replicas': 0, '_num_worker_replicas': 1}\n"
          ],
          "name": "stdout"
        }
      ]
    },
    {
      "cell_type": "code",
      "metadata": {
        "colab": {
          "base_uri": "https://localhost:8080/"
        },
        "id": "2gGtQ2UlTRqi",
        "outputId": "ad3a3e4d-1f63-4a64-8ad7-702a9177ba66"
      },
      "source": [
        "# Train model\r\n",
        "estimator.train(train_input_fn, max_steps=100)"
      ],
      "execution_count": 18,
      "outputs": [
        {
          "output_type": "stream",
          "text": [
            "INFO:tensorflow:Calling model_fn.\n",
            "INFO:tensorflow:Done calling model_fn.\n",
            "INFO:tensorflow:Create CheckpointSaverHook.\n",
            "WARNING:tensorflow:Issue encountered when serializing resources.\n",
            "Type is unsupported, or the types of the items don't match field type in CollectionDef. Note this is a warning and probably safe to ignore.\n",
            "'_Resource' object has no attribute 'name'\n",
            "INFO:tensorflow:Graph was finalized.\n",
            "INFO:tensorflow:Running local_init_op.\n",
            "INFO:tensorflow:Done running local_init_op.\n",
            "WARNING:tensorflow:Issue encountered when serializing resources.\n",
            "Type is unsupported, or the types of the items don't match field type in CollectionDef. Note this is a warning and probably safe to ignore.\n",
            "'_Resource' object has no attribute 'name'\n",
            "INFO:tensorflow:Calling checkpoint listeners before saving checkpoint 0...\n",
            "INFO:tensorflow:Saving checkpoints for 0 into /tmp/tmppfwm4ulh/model.ckpt.\n",
            "WARNING:tensorflow:Issue encountered when serializing resources.\n",
            "Type is unsupported, or the types of the items don't match field type in CollectionDef. Note this is a warning and probably safe to ignore.\n",
            "'_Resource' object has no attribute 'name'\n",
            "INFO:tensorflow:Calling checkpoint listeners after saving checkpoint 0...\n",
            "INFO:tensorflow:loss = 0.6931475, step = 0\n",
            "WARNING:tensorflow:It seems that global step (tf.train.get_global_step) has not been increased. Current value (could be stable): 0 vs previous value: 0. You could increase the global step by passing tf.train.get_global_step() to Optimizer.apply_gradients or Optimizer.minimize.\n",
            "INFO:tensorflow:global_step/sec: 110.72\n",
            "INFO:tensorflow:loss = 0.34396845, step = 99 (0.905 sec)\n",
            "INFO:tensorflow:Calling checkpoint listeners before saving checkpoint 100...\n",
            "INFO:tensorflow:Saving checkpoints for 100 into /tmp/tmppfwm4ulh/model.ckpt.\n",
            "WARNING:tensorflow:Issue encountered when serializing resources.\n",
            "Type is unsupported, or the types of the items don't match field type in CollectionDef. Note this is a warning and probably safe to ignore.\n",
            "'_Resource' object has no attribute 'name'\n",
            "INFO:tensorflow:Calling checkpoint listeners after saving checkpoint 100...\n",
            "INFO:tensorflow:Loss for final step: 0.34396845.\n"
          ],
          "name": "stdout"
        },
        {
          "output_type": "execute_result",
          "data": {
            "text/plain": [
              "<tensorflow_estimator.python.estimator.canned.boosted_trees.BoostedTreesClassifier at 0x7f07578a1710>"
            ]
          },
          "metadata": {
            "tags": []
          },
          "execution_count": 18
        }
      ]
    },
    {
      "cell_type": "code",
      "metadata": {
        "colab": {
          "base_uri": "https://localhost:8080/",
          "height": 386
        },
        "id": "wgKfjGgmTpTi",
        "outputId": "8de38397-115c-4b49-d150-1f8050a62f35"
      },
      "source": [
        "# Evaluate the model\r\n",
        "result = estimator.evaluate(eval_input_fn)\r\n",
        "clear_output()\r\n",
        "pd.Series(result).to_frame()"
      ],
      "execution_count": 20,
      "outputs": [
        {
          "output_type": "execute_result",
          "data": {
            "text/html": [
              "<div>\n",
              "<style scoped>\n",
              "    .dataframe tbody tr th:only-of-type {\n",
              "        vertical-align: middle;\n",
              "    }\n",
              "\n",
              "    .dataframe tbody tr th {\n",
              "        vertical-align: top;\n",
              "    }\n",
              "\n",
              "    .dataframe thead th {\n",
              "        text-align: right;\n",
              "    }\n",
              "</style>\n",
              "<table border=\"1\" class=\"dataframe\">\n",
              "  <thead>\n",
              "    <tr style=\"text-align: right;\">\n",
              "      <th></th>\n",
              "      <th>0</th>\n",
              "    </tr>\n",
              "  </thead>\n",
              "  <tbody>\n",
              "    <tr>\n",
              "      <th>accuracy</th>\n",
              "      <td>0.803030</td>\n",
              "    </tr>\n",
              "    <tr>\n",
              "      <th>accuracy_baseline</th>\n",
              "      <td>0.625000</td>\n",
              "    </tr>\n",
              "    <tr>\n",
              "      <th>auc</th>\n",
              "      <td>0.869483</td>\n",
              "    </tr>\n",
              "    <tr>\n",
              "      <th>auc_precision_recall</th>\n",
              "      <td>0.851343</td>\n",
              "    </tr>\n",
              "    <tr>\n",
              "      <th>average_loss</th>\n",
              "      <td>0.416901</td>\n",
              "    </tr>\n",
              "    <tr>\n",
              "      <th>label/mean</th>\n",
              "      <td>0.375000</td>\n",
              "    </tr>\n",
              "    <tr>\n",
              "      <th>loss</th>\n",
              "      <td>0.416901</td>\n",
              "    </tr>\n",
              "    <tr>\n",
              "      <th>precision</th>\n",
              "      <td>0.752688</td>\n",
              "    </tr>\n",
              "    <tr>\n",
              "      <th>prediction/mean</th>\n",
              "      <td>0.386502</td>\n",
              "    </tr>\n",
              "    <tr>\n",
              "      <th>recall</th>\n",
              "      <td>0.707071</td>\n",
              "    </tr>\n",
              "    <tr>\n",
              "      <th>global_step</th>\n",
              "      <td>100.000000</td>\n",
              "    </tr>\n",
              "  </tbody>\n",
              "</table>\n",
              "</div>"
            ],
            "text/plain": [
              "                               0\n",
              "accuracy                0.803030\n",
              "accuracy_baseline       0.625000\n",
              "auc                     0.869483\n",
              "auc_precision_recall    0.851343\n",
              "average_loss            0.416901\n",
              "label/mean              0.375000\n",
              "loss                    0.416901\n",
              "precision               0.752688\n",
              "prediction/mean         0.386502\n",
              "recall                  0.707071\n",
              "global_step           100.000000"
            ]
          },
          "metadata": {
            "tags": []
          },
          "execution_count": 20
        }
      ]
    },
    {
      "cell_type": "code",
      "metadata": {
        "colab": {
          "base_uri": "https://localhost:8080/"
        },
        "id": "ZdoQxF8LzFiM",
        "outputId": "e2dd3d5c-b54d-4b1d-80c7-f069126d3e6e"
      },
      "source": [
        "in_memory_params = dict(params)\n",
        "in_memory_params['n_batches_per_layer'] = 1\n",
        "\n",
        "# In-memory input function does not use batching\n",
        "def make_in_memory_train_input_fn(x, y):\n",
        "  y = np.expand_dims(y, axis=1)\n",
        "  def input_fn():\n",
        "    return dict(x), y\n",
        "  return input_fn\n",
        "train_input_fn = make_in_memory_train_input_fn(train_data, y_train)\n",
        "\n",
        "# Train the model.\n",
        "estimator_1 = tf.estimator.BoostedTreesClassifier(\n",
        "    feature_column, \n",
        "    train_in_memory=True, \n",
        "    **in_memory_params)\n",
        "\n",
        "estimator_1.train(train_input_fn)\n",
        "print(estimator_1.evaluate(eval_input_fn))"
      ],
      "execution_count": 22,
      "outputs": [
        {
          "output_type": "stream",
          "text": [
            "INFO:tensorflow:Using default config.\n",
            "WARNING:tensorflow:Using temporary folder as model directory: /tmp/tmpc2wl0d3j\n",
            "INFO:tensorflow:Using config: {'_model_dir': '/tmp/tmpc2wl0d3j', '_tf_random_seed': None, '_save_summary_steps': 100, '_save_checkpoints_steps': None, '_save_checkpoints_secs': 600, '_session_config': allow_soft_placement: true\n",
            "graph_options {\n",
            "  rewrite_options {\n",
            "    meta_optimizer_iterations: ONE\n",
            "  }\n",
            "}\n",
            ", '_keep_checkpoint_max': 5, '_keep_checkpoint_every_n_hours': 10000, '_log_step_count_steps': 100, '_train_distribute': None, '_device_fn': None, '_protocol': None, '_eval_distribute': None, '_experimental_distribute': None, '_experimental_max_worker_delay_secs': None, '_session_creation_timeout_secs': 7200, '_service': None, '_cluster_spec': ClusterSpec({}), '_task_type': 'worker', '_task_id': 0, '_global_id_in_cluster': 0, '_master': '', '_evaluation_master': '', '_is_chief': True, '_num_ps_replicas': 0, '_num_worker_replicas': 1}\n",
            "INFO:tensorflow:Calling model_fn.\n",
            "INFO:tensorflow:Done calling model_fn.\n",
            "INFO:tensorflow:Create CheckpointSaverHook.\n",
            "WARNING:tensorflow:Issue encountered when serializing resources.\n",
            "Type is unsupported, or the types of the items don't match field type in CollectionDef. Note this is a warning and probably safe to ignore.\n",
            "'_Resource' object has no attribute 'name'\n",
            "INFO:tensorflow:Graph was finalized.\n",
            "INFO:tensorflow:Running local_init_op.\n",
            "INFO:tensorflow:Done running local_init_op.\n",
            "WARNING:tensorflow:Issue encountered when serializing resources.\n",
            "Type is unsupported, or the types of the items don't match field type in CollectionDef. Note this is a warning and probably safe to ignore.\n",
            "'_Resource' object has no attribute 'name'\n",
            "INFO:tensorflow:Calling checkpoint listeners before saving checkpoint 0...\n",
            "INFO:tensorflow:Saving checkpoints for 0 into /tmp/tmpc2wl0d3j/model.ckpt.\n",
            "WARNING:tensorflow:Issue encountered when serializing resources.\n",
            "Type is unsupported, or the types of the items don't match field type in CollectionDef. Note this is a warning and probably safe to ignore.\n",
            "'_Resource' object has no attribute 'name'\n",
            "INFO:tensorflow:Calling checkpoint listeners after saving checkpoint 0...\n",
            "INFO:tensorflow:loss = 0.6931475, step = 0\n",
            "WARNING:tensorflow:It seems that global step (tf.train.get_global_step) has not been increased. Current value (could be stable): 0 vs previous value: 0. You could increase the global step by passing tf.train.get_global_step() to Optimizer.apply_gradients or Optimizer.minimize.\n",
            "INFO:tensorflow:global_step/sec: 195.316\n",
            "INFO:tensorflow:loss = 0.34396842, step = 99 (0.513 sec)\n",
            "INFO:tensorflow:Calling checkpoint listeners before saving checkpoint 153...\n",
            "INFO:tensorflow:Saving checkpoints for 153 into /tmp/tmpc2wl0d3j/model.ckpt.\n",
            "WARNING:tensorflow:Issue encountered when serializing resources.\n",
            "Type is unsupported, or the types of the items don't match field type in CollectionDef. Note this is a warning and probably safe to ignore.\n",
            "'_Resource' object has no attribute 'name'\n",
            "INFO:tensorflow:Calling checkpoint listeners after saving checkpoint 153...\n",
            "INFO:tensorflow:Loss for final step: 0.32042706.\n",
            "INFO:tensorflow:Calling model_fn.\n",
            "WARNING:tensorflow:Trapezoidal rule is known to produce incorrect PR-AUCs; please switch to \"careful_interpolation\" instead.\n",
            "WARNING:tensorflow:Trapezoidal rule is known to produce incorrect PR-AUCs; please switch to \"careful_interpolation\" instead.\n",
            "INFO:tensorflow:Done calling model_fn.\n",
            "INFO:tensorflow:Starting evaluation at 2020-12-11T10:21:21Z\n",
            "INFO:tensorflow:Graph was finalized.\n",
            "INFO:tensorflow:Restoring parameters from /tmp/tmpc2wl0d3j/model.ckpt-153\n",
            "INFO:tensorflow:Running local_init_op.\n",
            "INFO:tensorflow:Done running local_init_op.\n",
            "INFO:tensorflow:Inference Time : 0.52587s\n",
            "INFO:tensorflow:Finished evaluation at 2020-12-11-10:21:22\n",
            "INFO:tensorflow:Saving dict for global step 153: accuracy = 0.81439394, accuracy_baseline = 0.625, auc = 0.8692684, auc_precision_recall = 0.8528743, average_loss = 0.41440696, global_step = 153, label/mean = 0.375, loss = 0.41440696, precision = 0.7604167, prediction/mean = 0.3884683, recall = 0.7373737\n",
            "WARNING:tensorflow:Issue encountered when serializing resources.\n",
            "Type is unsupported, or the types of the items don't match field type in CollectionDef. Note this is a warning and probably safe to ignore.\n",
            "'_Resource' object has no attribute 'name'\n",
            "INFO:tensorflow:Saving 'checkpoint_path' summary for global step 153: /tmp/tmpc2wl0d3j/model.ckpt-153\n",
            "{'accuracy': 0.81439394, 'accuracy_baseline': 0.625, 'auc': 0.8692684, 'auc_precision_recall': 0.8528743, 'average_loss': 0.41440696, 'label/mean': 0.375, 'loss': 0.41440696, 'precision': 0.7604167, 'prediction/mean': 0.3884683, 'recall': 0.7373737, 'global_step': 153}\n"
          ],
          "name": "stdout"
        }
      ]
    },
    {
      "cell_type": "markdown",
      "metadata": {
        "id": "r1ddY8xpzLIn"
      },
      "source": [
        "**Model interpretation and Plotting**"
      ]
    },
    {
      "cell_type": "code",
      "metadata": {
        "id": "95AViXnHzIJf"
      },
      "source": [
        "sns_color = sns.color_palette('colorblind')"
      ],
      "execution_count": 25,
      "outputs": []
    },
    {
      "cell_type": "code",
      "metadata": {
        "colab": {
          "base_uri": "https://localhost:8080/"
        },
        "id": "fgdXkhsKzKQN",
        "outputId": "c222f60f-8595-4a67-d592-e1bc73eda6c7"
      },
      "source": [
        "pred_dict = list(estimator_1.experimental_predict_with_explanations(eval_input_fn))"
      ],
      "execution_count": 27,
      "outputs": [
        {
          "output_type": "stream",
          "text": [
            "INFO:tensorflow:Using config: {'_model_dir': '/tmp/tmpc2wl0d3j', '_tf_random_seed': None, '_save_summary_steps': 100, '_save_checkpoints_steps': None, '_save_checkpoints_secs': 600, '_session_config': allow_soft_placement: true\n",
            "graph_options {\n",
            "  rewrite_options {\n",
            "    meta_optimizer_iterations: ONE\n",
            "  }\n",
            "}\n",
            ", '_keep_checkpoint_max': 5, '_keep_checkpoint_every_n_hours': 10000, '_log_step_count_steps': 100, '_train_distribute': None, '_device_fn': None, '_protocol': None, '_eval_distribute': None, '_experimental_distribute': None, '_experimental_max_worker_delay_secs': None, '_session_creation_timeout_secs': 7200, '_service': None, '_cluster_spec': ClusterSpec({}), '_task_type': 'worker', '_task_id': 0, '_global_id_in_cluster': 0, '_master': '', '_evaluation_master': '', '_is_chief': True, '_num_ps_replicas': 0, '_num_worker_replicas': 1}\n",
            "INFO:tensorflow:Calling model_fn.\n",
            "INFO:tensorflow:Done calling model_fn.\n",
            "INFO:tensorflow:Graph was finalized.\n",
            "INFO:tensorflow:Restoring parameters from /tmp/tmpc2wl0d3j/model.ckpt-153\n",
            "INFO:tensorflow:Running local_init_op.\n",
            "INFO:tensorflow:Done running local_init_op.\n"
          ],
          "name": "stdout"
        }
      ]
    },
    {
      "cell_type": "code",
      "metadata": {
        "colab": {
          "base_uri": "https://localhost:8080/",
          "height": 324
        },
        "id": "Q7jW7kIwzZxJ",
        "outputId": "196ccfc2-e24c-4989-dbc9-7b231078e2ab"
      },
      "source": [
        "# Create Pandas dataframe\n",
        "label = y_eval.values\n",
        "probs = pd.Series([pred['probabilities'][1] for pred in pred_dict])\n",
        "dfc_df = pd.DataFrame([pred['dfc'] for pred in pred_dict])\n",
        "dfc_df.describe().T"
      ],
      "execution_count": 28,
      "outputs": [
        {
          "output_type": "execute_result",
          "data": {
            "text/html": [
              "<div>\n",
              "<style scoped>\n",
              "    .dataframe tbody tr th:only-of-type {\n",
              "        vertical-align: middle;\n",
              "    }\n",
              "\n",
              "    .dataframe tbody tr th {\n",
              "        vertical-align: top;\n",
              "    }\n",
              "\n",
              "    .dataframe thead th {\n",
              "        text-align: right;\n",
              "    }\n",
              "</style>\n",
              "<table border=\"1\" class=\"dataframe\">\n",
              "  <thead>\n",
              "    <tr style=\"text-align: right;\">\n",
              "      <th></th>\n",
              "      <th>count</th>\n",
              "      <th>mean</th>\n",
              "      <th>std</th>\n",
              "      <th>min</th>\n",
              "      <th>25%</th>\n",
              "      <th>50%</th>\n",
              "      <th>75%</th>\n",
              "      <th>max</th>\n",
              "    </tr>\n",
              "  </thead>\n",
              "  <tbody>\n",
              "    <tr>\n",
              "      <th>age</th>\n",
              "      <td>528.0</td>\n",
              "      <td>-0.026250</td>\n",
              "      <td>0.093296</td>\n",
              "      <td>-0.147969</td>\n",
              "      <td>-0.076613</td>\n",
              "      <td>-0.054171</td>\n",
              "      <td>0.003090</td>\n",
              "      <td>0.505813</td>\n",
              "    </tr>\n",
              "    <tr>\n",
              "      <th>sex</th>\n",
              "      <td>528.0</td>\n",
              "      <td>0.006601</td>\n",
              "      <td>0.107768</td>\n",
              "      <td>-0.097792</td>\n",
              "      <td>-0.074628</td>\n",
              "      <td>-0.072858</td>\n",
              "      <td>0.138226</td>\n",
              "      <td>0.182456</td>\n",
              "    </tr>\n",
              "    <tr>\n",
              "      <th>class</th>\n",
              "      <td>528.0</td>\n",
              "      <td>0.017165</td>\n",
              "      <td>0.092995</td>\n",
              "      <td>-0.133776</td>\n",
              "      <td>-0.043060</td>\n",
              "      <td>-0.041724</td>\n",
              "      <td>0.033055</td>\n",
              "      <td>0.231730</td>\n",
              "    </tr>\n",
              "    <tr>\n",
              "      <th>deck</th>\n",
              "      <td>528.0</td>\n",
              "      <td>-0.018092</td>\n",
              "      <td>0.032545</td>\n",
              "      <td>-0.094638</td>\n",
              "      <td>-0.042912</td>\n",
              "      <td>-0.032754</td>\n",
              "      <td>0.001897</td>\n",
              "      <td>0.199893</td>\n",
              "    </tr>\n",
              "    <tr>\n",
              "      <th>embark_town</th>\n",
              "      <td>528.0</td>\n",
              "      <td>-0.007019</td>\n",
              "      <td>0.031410</td>\n",
              "      <td>-0.056042</td>\n",
              "      <td>-0.017526</td>\n",
              "      <td>-0.015517</td>\n",
              "      <td>-0.003948</td>\n",
              "      <td>0.086491</td>\n",
              "    </tr>\n",
              "    <tr>\n",
              "      <th>fare</th>\n",
              "      <td>528.0</td>\n",
              "      <td>0.027099</td>\n",
              "      <td>0.089063</td>\n",
              "      <td>-0.224306</td>\n",
              "      <td>-0.028055</td>\n",
              "      <td>-0.002334</td>\n",
              "      <td>0.072627</td>\n",
              "      <td>0.285098</td>\n",
              "    </tr>\n",
              "    <tr>\n",
              "      <th>n_siblings_spouses</th>\n",
              "      <td>528.0</td>\n",
              "      <td>0.001386</td>\n",
              "      <td>0.025989</td>\n",
              "      <td>-0.133110</td>\n",
              "      <td>0.002419</td>\n",
              "      <td>0.003337</td>\n",
              "      <td>0.006167</td>\n",
              "      <td>0.103482</td>\n",
              "    </tr>\n",
              "    <tr>\n",
              "      <th>parch</th>\n",
              "      <td>528.0</td>\n",
              "      <td>0.000020</td>\n",
              "      <td>0.011422</td>\n",
              "      <td>-0.098722</td>\n",
              "      <td>0.000654</td>\n",
              "      <td>0.000864</td>\n",
              "      <td>0.001482</td>\n",
              "      <td>0.040270</td>\n",
              "    </tr>\n",
              "    <tr>\n",
              "      <th>alone</th>\n",
              "      <td>528.0</td>\n",
              "      <td>0.000000</td>\n",
              "      <td>0.000000</td>\n",
              "      <td>0.000000</td>\n",
              "      <td>0.000000</td>\n",
              "      <td>0.000000</td>\n",
              "      <td>0.000000</td>\n",
              "      <td>0.000000</td>\n",
              "    </tr>\n",
              "  </tbody>\n",
              "</table>\n",
              "</div>"
            ],
            "text/plain": [
              "                    count      mean       std  ...       50%       75%       max\n",
              "age                 528.0 -0.026250  0.093296  ... -0.054171  0.003090  0.505813\n",
              "sex                 528.0  0.006601  0.107768  ... -0.072858  0.138226  0.182456\n",
              "class               528.0  0.017165  0.092995  ... -0.041724  0.033055  0.231730\n",
              "deck                528.0 -0.018092  0.032545  ... -0.032754  0.001897  0.199893\n",
              "embark_town         528.0 -0.007019  0.031410  ... -0.015517 -0.003948  0.086491\n",
              "fare                528.0  0.027099  0.089063  ... -0.002334  0.072627  0.285098\n",
              "n_siblings_spouses  528.0  0.001386  0.025989  ...  0.003337  0.006167  0.103482\n",
              "parch               528.0  0.000020  0.011422  ...  0.000864  0.001482  0.040270\n",
              "alone               528.0  0.000000  0.000000  ...  0.000000  0.000000  0.000000\n",
              "\n",
              "[9 rows x 8 columns]"
            ]
          },
          "metadata": {
            "tags": []
          },
          "execution_count": 28
        }
      ]
    },
    {
      "cell_type": "code",
      "metadata": {
        "id": "iSmGSqbazbPA"
      },
      "source": [
        "bias = pred_dict[0]['bias']\n",
        "dfc_prob = dfc_df.sum(axis=1) + bias\n",
        "np.testing.assert_almost_equal(dfc_prob.values, probs.values)"
      ],
      "execution_count": 31,
      "outputs": []
    },
    {
      "cell_type": "code",
      "metadata": {
        "id": "bdlVfFumzc_5"
      },
      "source": [
        "# Visualization\n",
        "def _get_color(value):\n",
        "    green, red = sns.color_palette()[2:4]\n",
        "    if value >= 0: return green\n",
        "    return red\n",
        "\n",
        "def _add_feature_values(feature_values, ax):\n",
        "    x_coord = ax.get_xlim()[0]\n",
        "    offset = 0.15\n",
        "    for y_coord, (feat_name, feat_val) in enumerate(feature_values.items()):\n",
        "        t = plt.text(x_coord, y_coord - offset, '{}'.format(feat_val), size=12)\n",
        "        t.set_bbox(dict(facecolor='white', alpha=0.5))\n",
        "    from matplotlib.font_manager import FontProperties\n",
        "    font = FontProperties()\n",
        "    font.set_weight('bold')\n",
        "    t = plt.text(x_coord, y_coord + 1 - offset, 'feature\\nvalue',\n",
        "    fontproperties=font, size=12)\n",
        "\n",
        "def plot_example(example):\n",
        "  top_n = 8\n",
        "  sorted_ix = example.abs().sort_values()[-top_n:].index\n",
        "  example = example[sorted_ix]\n",
        "  color = example.map(_get_color).tolist()\n",
        "  ax = example.to_frame().plot(kind='barh',\n",
        "                          color=[color],\n",
        "                          legend=None,\n",
        "                          alpha=0.75,\n",
        "                          figsize=(10,6))\n",
        "  ax.grid(False, axis='y')\n",
        "  ax.set_yticklabels(ax.get_yticklabels(), size=14)\n",
        "  # Add feature values.\n",
        "  _add_feature_values(eval_data.iloc[id][sorted_ix], ax)\n",
        "  return ax"
      ],
      "execution_count": 39,
      "outputs": []
    },
    {
      "cell_type": "code",
      "metadata": {
        "colab": {
          "base_uri": "https://localhost:8080/",
          "height": 431
        },
        "id": "HLLytUFNzfyO",
        "outputId": "4508a6db-19bb-458f-e8d8-41fe32314b1d"
      },
      "source": [
        "# Plot the results\n",
        "id = 182 # record number\n",
        "example = dfc_df.iloc[id] \n",
        "top_n = 8 \n",
        "sorted_ix = example.abs().sort_values()[-top_n:].index\n",
        "ax = plot_example(example)\n",
        "ax.set_title('Feature contributions for example {}\\n pred: {:1.2f}; label: {}'.format(id, probs[id], label[id]))\n",
        "ax.set_xlabel('Contribution to predicted probability', size=14)\n",
        "plt.show()"
      ],
      "execution_count": 41,
      "outputs": [
        {
          "output_type": "display_data",
          "data": {
            "image/png": "[encoded data removed]",
            "text/plain": [
              "<Figure size 720x432 with 1 Axes>"
            ]
          },
          "metadata": {
            "tags": [],
            "needs_background": "light"
          }
        }
      ]
    },
    {
      "cell_type": "code",
      "metadata": {
        "colab": {
          "base_uri": "https://localhost:8080/",
          "height": 390
        },
        "id": "KXd1z-rnXzbs",
        "outputId": "35eae1ce-936c-4dec-bd99-b66df34212ba"
      },
      "source": [
        "# Absolute DFCs\r\n",
        "dfc_mean = dfc_df.abs().mean()\r\n",
        "N = 8\r\n",
        "sorted_ix = dfc_mean.abs().sort_values()[-N:].index \r\n",
        "ax = dfc_mean[sorted_ix].plot(kind='barh',\r\n",
        "                       color=sns_colors[1],\r\n",
        "                       title='Mean |directional feature contributions|',\r\n",
        "                       figsize=(10, 6))\r\n",
        "ax.grid(False, axis='y')"
      ],
      "execution_count": 45,
      "outputs": [
        {
          "output_type": "display_data",
          "data": {
            "image/png": "[encoded data removed]",
            "text/plain": [
              "<Figure size 720x432 with 1 Axes>"
            ]
          },
          "metadata": {
            "tags": [],
            "needs_background": "light"
          }
        }
      ]
    },
    {
      "cell_type": "code",
      "metadata": {
        "id": "mR6s6vADYBp3"
      },
      "source": [
        ""
      ],
      "execution_count": null,
      "outputs": []
    }
  ]
}