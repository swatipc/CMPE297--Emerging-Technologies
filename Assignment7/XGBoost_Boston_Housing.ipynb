{
  "nbformat": 4,
  "nbformat_minor": 0,
  "metadata": {
    "colab": {
      "name": "XGBoost_Boston_Housing.ipynb",
      "provenance": []
    },
    "kernelspec": {
      "name": "python3",
      "display_name": "Python 3"
    }
  },
  "cells": [
    {
      "cell_type": "markdown",
      "metadata": {
        "id": "qtXprgr74LxM"
      },
      "source": [
        "**XGBoost on Boston House Prices dataset**"
      ]
    },
    {
      "cell_type": "code",
      "metadata": {
        "colab": {
          "base_uri": "https://localhost:8080/"
        },
        "id": "U-BrEmE51AG6",
        "outputId": "d04e4955-a491-4745-e518-460828d8302a"
      },
      "source": [
        "# Install xgboost\r\n",
        "!pip install xgboost"
      ],
      "execution_count": 1,
      "outputs": [
        {
          "output_type": "stream",
          "text": [
            "Requirement already satisfied: xgboost in /usr/local/lib/python3.6/dist-packages (0.90)\n",
            "Requirement already satisfied: scipy in /usr/local/lib/python3.6/dist-packages (from xgboost) (1.4.1)\n",
            "Requirement already satisfied: numpy in /usr/local/lib/python3.6/dist-packages (from xgboost) (1.18.5)\n"
          ],
          "name": "stdout"
        }
      ]
    },
    {
      "cell_type": "code",
      "metadata": {
        "id": "69tiVXMC1u1D"
      },
      "source": [
        "# Import required libraries\r\n",
        "import pandas as pd\r\n",
        "import xgboost as xgb\r\n",
        "from sklearn.datasets import load_boston\r\n",
        "from sklearn.model_selection import train_test_split\r\n",
        "from sklearn.metrics import mean_squared_error"
      ],
      "execution_count": 3,
      "outputs": []
    },
    {
      "cell_type": "code",
      "metadata": {
        "id": "GCwFyLjp14QG"
      },
      "source": [
        "# Load dataset\r\n",
        "boston_data = load_boston()\r\n",
        "x = pd.DataFrame(boston_data.data, columns=boston_data.feature_names)\r\n",
        "y = pd.Series(boston_data.target)"
      ],
      "execution_count": 8,
      "outputs": []
    },
    {
      "cell_type": "code",
      "metadata": {
        "colab": {
          "base_uri": "https://localhost:8080/",
          "height": 202
        },
        "id": "N7MC0Ya_2rTv",
        "outputId": "ec87b54d-b567-42a9-b599-251c829824cb"
      },
      "source": [
        "x.head()"
      ],
      "execution_count": 9,
      "outputs": [
        {
          "output_type": "execute_result",
          "data": {
            "text/html": [
              "<div>\n",
              "<style scoped>\n",
              "    .dataframe tbody tr th:only-of-type {\n",
              "        vertical-align: middle;\n",
              "    }\n",
              "\n",
              "    .dataframe tbody tr th {\n",
              "        vertical-align: top;\n",
              "    }\n",
              "\n",
              "    .dataframe thead th {\n",
              "        text-align: right;\n",
              "    }\n",
              "</style>\n",
              "<table border=\"1\" class=\"dataframe\">\n",
              "  <thead>\n",
              "    <tr style=\"text-align: right;\">\n",
              "      <th></th>\n",
              "      <th>CRIM</th>\n",
              "      <th>ZN</th>\n",
              "      <th>INDUS</th>\n",
              "      <th>CHAS</th>\n",
              "      <th>NOX</th>\n",
              "      <th>RM</th>\n",
              "      <th>AGE</th>\n",
              "      <th>DIS</th>\n",
              "      <th>RAD</th>\n",
              "      <th>TAX</th>\n",
              "      <th>PTRATIO</th>\n",
              "      <th>B</th>\n",
              "      <th>LSTAT</th>\n",
              "    </tr>\n",
              "  </thead>\n",
              "  <tbody>\n",
              "    <tr>\n",
              "      <th>0</th>\n",
              "      <td>0.00632</td>\n",
              "      <td>18.0</td>\n",
              "      <td>2.31</td>\n",
              "      <td>0.0</td>\n",
              "      <td>0.538</td>\n",
              "      <td>6.575</td>\n",
              "      <td>65.2</td>\n",
              "      <td>4.0900</td>\n",
              "      <td>1.0</td>\n",
              "      <td>296.0</td>\n",
              "      <td>15.3</td>\n",
              "      <td>396.90</td>\n",
              "      <td>4.98</td>\n",
              "    </tr>\n",
              "    <tr>\n",
              "      <th>1</th>\n",
              "      <td>0.02731</td>\n",
              "      <td>0.0</td>\n",
              "      <td>7.07</td>\n",
              "      <td>0.0</td>\n",
              "      <td>0.469</td>\n",
              "      <td>6.421</td>\n",
              "      <td>78.9</td>\n",
              "      <td>4.9671</td>\n",
              "      <td>2.0</td>\n",
              "      <td>242.0</td>\n",
              "      <td>17.8</td>\n",
              "      <td>396.90</td>\n",
              "      <td>9.14</td>\n",
              "    </tr>\n",
              "    <tr>\n",
              "      <th>2</th>\n",
              "      <td>0.02729</td>\n",
              "      <td>0.0</td>\n",
              "      <td>7.07</td>\n",
              "      <td>0.0</td>\n",
              "      <td>0.469</td>\n",
              "      <td>7.185</td>\n",
              "      <td>61.1</td>\n",
              "      <td>4.9671</td>\n",
              "      <td>2.0</td>\n",
              "      <td>242.0</td>\n",
              "      <td>17.8</td>\n",
              "      <td>392.83</td>\n",
              "      <td>4.03</td>\n",
              "    </tr>\n",
              "    <tr>\n",
              "      <th>3</th>\n",
              "      <td>0.03237</td>\n",
              "      <td>0.0</td>\n",
              "      <td>2.18</td>\n",
              "      <td>0.0</td>\n",
              "      <td>0.458</td>\n",
              "      <td>6.998</td>\n",
              "      <td>45.8</td>\n",
              "      <td>6.0622</td>\n",
              "      <td>3.0</td>\n",
              "      <td>222.0</td>\n",
              "      <td>18.7</td>\n",
              "      <td>394.63</td>\n",
              "      <td>2.94</td>\n",
              "    </tr>\n",
              "    <tr>\n",
              "      <th>4</th>\n",
              "      <td>0.06905</td>\n",
              "      <td>0.0</td>\n",
              "      <td>2.18</td>\n",
              "      <td>0.0</td>\n",
              "      <td>0.458</td>\n",
              "      <td>7.147</td>\n",
              "      <td>54.2</td>\n",
              "      <td>6.0622</td>\n",
              "      <td>3.0</td>\n",
              "      <td>222.0</td>\n",
              "      <td>18.7</td>\n",
              "      <td>396.90</td>\n",
              "      <td>5.33</td>\n",
              "    </tr>\n",
              "  </tbody>\n",
              "</table>\n",
              "</div>"
            ],
            "text/plain": [
              "      CRIM    ZN  INDUS  CHAS    NOX  ...  RAD    TAX  PTRATIO       B  LSTAT\n",
              "0  0.00632  18.0   2.31   0.0  0.538  ...  1.0  296.0     15.3  396.90   4.98\n",
              "1  0.02731   0.0   7.07   0.0  0.469  ...  2.0  242.0     17.8  396.90   9.14\n",
              "2  0.02729   0.0   7.07   0.0  0.469  ...  2.0  242.0     17.8  392.83   4.03\n",
              "3  0.03237   0.0   2.18   0.0  0.458  ...  3.0  222.0     18.7  394.63   2.94\n",
              "4  0.06905   0.0   2.18   0.0  0.458  ...  3.0  222.0     18.7  396.90   5.33\n",
              "\n",
              "[5 rows x 13 columns]"
            ]
          },
          "metadata": {
            "tags": []
          },
          "execution_count": 9
        }
      ]
    },
    {
      "cell_type": "code",
      "metadata": {
        "id": "ns4fJBQh3Bya"
      },
      "source": [
        "# Split the dataset in test and train\r\n",
        "x_train, x_test, y_train, y_test = train_test_split(x, y)"
      ],
      "execution_count": 10,
      "outputs": []
    },
    {
      "cell_type": "code",
      "metadata": {
        "id": "ktvvfMyf3Mt0"
      },
      "source": [
        "# XGBoost\r\n",
        "xgb = xgb.XGBRegressor(\r\n",
        "    n_estimators=100,\r\n",
        "    reg_lambda=1,\r\n",
        "    gamma=0,\r\n",
        "    max_depth=4\r\n",
        ")"
      ],
      "execution_count": 14,
      "outputs": []
    },
    {
      "cell_type": "code",
      "metadata": {
        "colab": {
          "base_uri": "https://localhost:8080/"
        },
        "id": "jD1nMegW3Tbf",
        "outputId": "48bcaca1-a01d-434c-9e79-17ecc57f136e"
      },
      "source": [
        "xgb.fit(x_train, y_train)"
      ],
      "execution_count": 15,
      "outputs": [
        {
          "output_type": "stream",
          "text": [
            "[08:15:16] WARNING: /workspace/src/objective/regression_obj.cu:152: reg:linear is now deprecated in favor of reg:squarederror.\n"
          ],
          "name": "stdout"
        },
        {
          "output_type": "execute_result",
          "data": {
            "text/plain": [
              "XGBRegressor(base_score=0.5, booster='gbtree', colsample_bylevel=1,\n",
              "             colsample_bynode=1, colsample_bytree=1, gamma=0,\n",
              "             importance_type='gain', learning_rate=0.1, max_delta_step=0,\n",
              "             max_depth=4, min_child_weight=1, missing=None, n_estimators=100,\n",
              "             n_jobs=1, nthread=None, objective='reg:linear', random_state=0,\n",
              "             reg_alpha=0, reg_lambda=1, scale_pos_weight=1, seed=None,\n",
              "             silent=None, subsample=1, verbosity=1)"
            ]
          },
          "metadata": {
            "tags": []
          },
          "execution_count": 15
        }
      ]
    },
    {
      "cell_type": "code",
      "metadata": {
        "colab": {
          "base_uri": "https://localhost:8080/",
          "height": 79
        },
        "id": "SyLWJ6tT3c6m",
        "outputId": "8f9e7baa-5ce8-4010-bdce-8fa6e119d5f0"
      },
      "source": [
        "# Storing the data in pandas dataframe\r\n",
        "pd.DataFrame(xgb.feature_importances_.reshape(1, -1), columns=boston_data.feature_names)"
      ],
      "execution_count": 16,
      "outputs": [
        {
          "output_type": "execute_result",
          "data": {
            "text/html": [
              "<div>\n",
              "<style scoped>\n",
              "    .dataframe tbody tr th:only-of-type {\n",
              "        vertical-align: middle;\n",
              "    }\n",
              "\n",
              "    .dataframe tbody tr th {\n",
              "        vertical-align: top;\n",
              "    }\n",
              "\n",
              "    .dataframe thead th {\n",
              "        text-align: right;\n",
              "    }\n",
              "</style>\n",
              "<table border=\"1\" class=\"dataframe\">\n",
              "  <thead>\n",
              "    <tr style=\"text-align: right;\">\n",
              "      <th></th>\n",
              "      <th>CRIM</th>\n",
              "      <th>ZN</th>\n",
              "      <th>INDUS</th>\n",
              "      <th>CHAS</th>\n",
              "      <th>NOX</th>\n",
              "      <th>RM</th>\n",
              "      <th>AGE</th>\n",
              "      <th>DIS</th>\n",
              "      <th>RAD</th>\n",
              "      <th>TAX</th>\n",
              "      <th>PTRATIO</th>\n",
              "      <th>B</th>\n",
              "      <th>LSTAT</th>\n",
              "    </tr>\n",
              "  </thead>\n",
              "  <tbody>\n",
              "    <tr>\n",
              "      <th>0</th>\n",
              "      <td>0.028407</td>\n",
              "      <td>0.001708</td>\n",
              "      <td>0.012662</td>\n",
              "      <td>0.024111</td>\n",
              "      <td>0.02717</td>\n",
              "      <td>0.172667</td>\n",
              "      <td>0.012311</td>\n",
              "      <td>0.027244</td>\n",
              "      <td>0.014473</td>\n",
              "      <td>0.023396</td>\n",
              "      <td>0.033597</td>\n",
              "      <td>0.012666</td>\n",
              "      <td>0.609586</td>\n",
              "    </tr>\n",
              "  </tbody>\n",
              "</table>\n",
              "</div>"
            ],
            "text/plain": [
              "       CRIM        ZN     INDUS  ...   PTRATIO         B     LSTAT\n",
              "0  0.028407  0.001708  0.012662  ...  0.033597  0.012666  0.609586\n",
              "\n",
              "[1 rows x 13 columns]"
            ]
          },
          "metadata": {
            "tags": []
          },
          "execution_count": 16
        }
      ]
    },
    {
      "cell_type": "code",
      "metadata": {
        "id": "g8-t9XBq3w8a"
      },
      "source": [
        "# Make prediction\r\n",
        "y_pred = xgb.predict(x_test)"
      ],
      "execution_count": 18,
      "outputs": []
    },
    {
      "cell_type": "code",
      "metadata": {
        "colab": {
          "base_uri": "https://localhost:8080/"
        },
        "id": "m_lPalLU32Nq",
        "outputId": "3bebc326-0449-4447-efbe-8e20a6083235"
      },
      "source": [
        "# Evaluate model performance\r\n",
        "mean_squared_error(y_test, y_pred)"
      ],
      "execution_count": 19,
      "outputs": [
        {
          "output_type": "execute_result",
          "data": {
            "text/plain": [
              "9.080576295028367"
            ]
          },
          "metadata": {
            "tags": []
          },
          "execution_count": 19
        }
      ]
    },
    {
      "cell_type": "code",
      "metadata": {
        "colab": {
          "base_uri": "https://localhost:8080/"
        },
        "id": "AGbNXGvA39vY",
        "outputId": "1190d7da-9792-4a78-b533-f2e12bca6995"
      },
      "source": [
        "# Pediction\r\n",
        "y_pred"
      ],
      "execution_count": 20,
      "outputs": [
        {
          "output_type": "execute_result",
          "data": {
            "text/plain": [
              "array([10.719856 , 23.659601 , 50.18861  , 47.79856  , 10.019455 ,\n",
              "       23.63834  , 45.850666 , 15.369024 , 41.926105 , 16.050636 ,\n",
              "       26.844044 , 28.175762 , 40.50802  , 18.30939  , 24.819021 ,\n",
              "       34.49255  , 27.671404 , 28.061335 , 19.14092  , 44.589344 ,\n",
              "       17.828545 , 20.248236 , 26.872179 , 14.290301 , 27.588192 ,\n",
              "       14.254459 , 18.446114 , 22.452858 , 30.614725 , 27.840475 ,\n",
              "       23.157898 , 36.092495 , 17.29833  , 20.014936 , 10.456594 ,\n",
              "       21.87909  ,  7.8455586, 37.934673 , 49.040165 , 15.357245 ,\n",
              "       22.60337  , 14.412556 , 28.147285 , 16.030157 , 18.840662 ,\n",
              "       20.747032 , 25.300528 , 25.684196 , 27.677504 , 21.526796 ,\n",
              "       26.04572  , 22.893372 , 20.571255 , 11.489342 , 11.143738 ,\n",
              "       19.78933  , 22.205412 , 24.615967 , 20.756098 , 26.23668  ,\n",
              "       20.488577 , 21.087543 , 19.839767 , 20.939758 , 19.53913  ,\n",
              "       20.349773 , 20.371708 , 24.70584  , 37.119083 , 22.973455 ,\n",
              "       34.919327 , 23.370878 , 32.85615  , 11.957798 , 11.251069 ,\n",
              "       21.01231  , 14.58877  , 17.39336  ,  8.701477 , 20.700739 ,\n",
              "       13.5332575, 13.166614 , 24.389427 , 11.923141 , 32.986835 ,\n",
              "       13.130752 , 22.65107  , 22.811115 , 21.353884 , 34.013367 ,\n",
              "       19.359314 , 20.977793 , 23.646307 , 12.993145 , 21.005327 ,\n",
              "       18.354776 , 15.126852 , 23.839556 , 20.199133 , 20.689373 ,\n",
              "       21.27647  , 25.941133 , 19.512672 , 32.523884 , 22.94835  ,\n",
              "       27.118586 , 14.202788 , 38.602863 , 16.325699 , 15.309723 ,\n",
              "        7.639867 , 30.469255 , 37.082462 , 24.743896 , 48.350082 ,\n",
              "       12.553144 , 44.657852 , 12.288878 , 13.818026 , 22.864874 ,\n",
              "       17.575974 , 24.021862 ,  6.000982 , 48.703423 , 23.589792 ,\n",
              "       21.048159 , 36.14398  ], dtype=float32)"
            ]
          },
          "metadata": {
            "tags": []
          },
          "execution_count": 20
        }
      ]
    },
    {
      "cell_type": "code",
      "metadata": {
        "id": "Bx9pyN0F4EXk"
      },
      "source": [
        ""
      ],
      "execution_count": null,
      "outputs": []
    }
  ]
}