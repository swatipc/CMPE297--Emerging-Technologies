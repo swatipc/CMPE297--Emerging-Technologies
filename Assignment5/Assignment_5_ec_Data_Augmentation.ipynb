{
  "nbformat": 4,
  "nbformat_minor": 0,
  "metadata": {
    "colab": {
      "name": "Assignment_5_ec_Data_Augmentation.ipynb",
      "provenance": []
    },
    "kernelspec": {
      "name": "python3",
      "display_name": "Python 3"
    },
    "widgets": {
      "application/vnd.jupyter.widget-state+json": {
        "5c19586038154822a662ee396fe4cc32": {
          "model_module": "@jupyter-widgets/controls",
          "model_name": "SelectMultipleModel",
          "state": {
            "_options_labels": [
              "the amazon sagemaker was an easy stepping stone from a machine learning project in people without formal knowledge",
              "amazon sagemaker was a good, simple way to use machine learning for someone without formal training for"
            ],
            "_view_name": "SelectMultipleView",
            "style": "IPY_MODEL_71b55f4d01f144a0b49d17144b242d33",
            "rows": 2,
            "_dom_classes": [],
            "description": "Paraphrases",
            "_model_name": "SelectMultipleModel",
            "index": [
              0
            ],
            "_view_module": "@jupyter-widgets/controls",
            "_model_module_version": "1.5.0",
            "_view_count": null,
            "disabled": false,
            "_view_module_version": "1.5.0",
            "description_tooltip": null,
            "_model_module": "@jupyter-widgets/controls",
            "layout": "IPY_MODEL_28327f6c29e44d179bcbdaa7998d1255"
          }
        },
        "71b55f4d01f144a0b49d17144b242d33": {
          "model_module": "@jupyter-widgets/controls",
          "model_name": "DescriptionStyleModel",
          "state": {
            "_view_name": "StyleView",
            "_model_name": "DescriptionStyleModel",
            "description_width": "",
            "_view_module": "@jupyter-widgets/base",
            "_model_module_version": "1.5.0",
            "_view_count": null,
            "_view_module_version": "1.2.0",
            "_model_module": "@jupyter-widgets/controls"
          }
        },
        "28327f6c29e44d179bcbdaa7998d1255": {
          "model_module": "@jupyter-widgets/base",
          "model_name": "LayoutModel",
          "state": {
            "_view_name": "LayoutView",
            "grid_template_rows": null,
            "right": null,
            "justify_content": null,
            "_view_module": "@jupyter-widgets/base",
            "overflow": null,
            "_model_module_version": "1.2.0",
            "_view_count": null,
            "flex_flow": null,
            "width": "100%",
            "min_width": null,
            "border": null,
            "align_items": null,
            "bottom": null,
            "_model_module": "@jupyter-widgets/base",
            "top": null,
            "grid_column": null,
            "overflow_y": null,
            "overflow_x": null,
            "grid_auto_flow": null,
            "grid_area": null,
            "grid_template_columns": null,
            "flex": null,
            "_model_name": "LayoutModel",
            "justify_items": null,
            "grid_row": null,
            "max_height": null,
            "align_content": null,
            "visibility": null,
            "align_self": null,
            "height": null,
            "min_height": null,
            "padding": null,
            "grid_auto_rows": null,
            "grid_gap": null,
            "max_width": null,
            "order": null,
            "_view_module_version": "1.2.0",
            "grid_template_areas": null,
            "object_position": null,
            "object_fit": null,
            "grid_auto_columns": null,
            "margin": null,
            "display": null,
            "left": null
          }
        },
        "c798bf647dc04287be4ed7da1bb74870": {
          "model_module": "@jupyter-widgets/controls",
          "model_name": "TextModel",
          "state": {
            "_view_name": "TextView",
            "style": "IPY_MODEL_cc107152aec8469f8a324624221ba958",
            "_dom_classes": [],
            "description": "Intent",
            "_model_name": "TextModel",
            "placeholder": "​",
            "_view_module": "@jupyter-widgets/controls",
            "_model_module_version": "1.5.0",
            "value": "Machine Learning tool",
            "_view_count": null,
            "disabled": false,
            "_view_module_version": "1.5.0",
            "continuous_update": true,
            "description_tooltip": null,
            "_model_module": "@jupyter-widgets/controls",
            "layout": "IPY_MODEL_78ed7d7f340a4f64bd845b743737e1bc"
          }
        },
        "cc107152aec8469f8a324624221ba958": {
          "model_module": "@jupyter-widgets/controls",
          "model_name": "DescriptionStyleModel",
          "state": {
            "_view_name": "StyleView",
            "_model_name": "DescriptionStyleModel",
            "description_width": "",
            "_view_module": "@jupyter-widgets/base",
            "_model_module_version": "1.5.0",
            "_view_count": null,
            "_view_module_version": "1.2.0",
            "_model_module": "@jupyter-widgets/controls"
          }
        },
        "78ed7d7f340a4f64bd845b743737e1bc": {
          "model_module": "@jupyter-widgets/base",
          "model_name": "LayoutModel",
          "state": {
            "_view_name": "LayoutView",
            "grid_template_rows": null,
            "right": null,
            "justify_content": null,
            "_view_module": "@jupyter-widgets/base",
            "overflow": null,
            "_model_module_version": "1.2.0",
            "_view_count": null,
            "flex_flow": null,
            "width": null,
            "min_width": null,
            "border": null,
            "align_items": null,
            "bottom": null,
            "_model_module": "@jupyter-widgets/base",
            "top": null,
            "grid_column": null,
            "overflow_y": null,
            "overflow_x": null,
            "grid_auto_flow": null,
            "grid_area": null,
            "grid_template_columns": null,
            "flex": null,
            "_model_name": "LayoutModel",
            "justify_items": null,
            "grid_row": null,
            "max_height": null,
            "align_content": null,
            "visibility": null,
            "align_self": null,
            "height": null,
            "min_height": null,
            "padding": null,
            "grid_auto_rows": null,
            "grid_gap": null,
            "max_width": null,
            "order": null,
            "_view_module_version": "1.2.0",
            "grid_template_areas": null,
            "object_position": null,
            "object_fit": null,
            "grid_auto_columns": null,
            "margin": null,
            "display": null,
            "left": null
          }
        },
        "2e6f88228a0a47ca95f6fceb6f67b0fe": {
          "model_module": "@jupyter-widgets/controls",
          "model_name": "ButtonModel",
          "state": {
            "_view_name": "ButtonView",
            "style": "IPY_MODEL_f7465b69bc1e4a94b35ef55f21fcf58c",
            "_dom_classes": [],
            "description": "Add to Training Data",
            "_model_name": "ButtonModel",
            "button_style": "",
            "_view_module": "@jupyter-widgets/controls",
            "_model_module_version": "1.5.0",
            "tooltip": "",
            "_view_count": null,
            "disabled": false,
            "_view_module_version": "1.5.0",
            "layout": "IPY_MODEL_b1d7cb96fbb54acc88616c1b937a3bdd",
            "_model_module": "@jupyter-widgets/controls",
            "icon": ""
          }
        },
        "f7465b69bc1e4a94b35ef55f21fcf58c": {
          "model_module": "@jupyter-widgets/controls",
          "model_name": "ButtonStyleModel",
          "state": {
            "_view_name": "StyleView",
            "_model_name": "ButtonStyleModel",
            "_view_module": "@jupyter-widgets/base",
            "_model_module_version": "1.5.0",
            "_view_count": null,
            "button_color": null,
            "font_weight": "",
            "_view_module_version": "1.2.0",
            "_model_module": "@jupyter-widgets/controls"
          }
        },
        "b1d7cb96fbb54acc88616c1b937a3bdd": {
          "model_module": "@jupyter-widgets/base",
          "model_name": "LayoutModel",
          "state": {
            "_view_name": "LayoutView",
            "grid_template_rows": null,
            "right": null,
            "justify_content": null,
            "_view_module": "@jupyter-widgets/base",
            "overflow": null,
            "_model_module_version": "1.2.0",
            "_view_count": null,
            "flex_flow": null,
            "width": null,
            "min_width": null,
            "border": null,
            "align_items": null,
            "bottom": null,
            "_model_module": "@jupyter-widgets/base",
            "top": null,
            "grid_column": null,
            "overflow_y": null,
            "overflow_x": null,
            "grid_auto_flow": null,
            "grid_area": null,
            "grid_template_columns": null,
            "flex": null,
            "_model_name": "LayoutModel",
            "justify_items": null,
            "grid_row": null,
            "max_height": null,
            "align_content": null,
            "visibility": null,
            "align_self": null,
            "height": null,
            "min_height": null,
            "padding": null,
            "grid_auto_rows": null,
            "grid_gap": null,
            "max_width": null,
            "order": null,
            "_view_module_version": "1.2.0",
            "grid_template_areas": null,
            "object_position": null,
            "object_fit": null,
            "grid_auto_columns": null,
            "margin": null,
            "display": null,
            "left": null
          }
        },
        "533fb959beac4925bec85f30fb9e0102": {
          "model_module": "@jupyter-widgets/output",
          "model_name": "OutputModel",
          "state": {
            "_view_name": "OutputView",
            "msg_id": "",
            "_dom_classes": [],
            "_model_name": "OutputModel",
            "outputs": [
              {
                "output_type": "stream",
                "metadata": {
                  "tags": []
                },
                "text": "## intent:Machine Learning tool\n- At launch, Amazon SageMaker was an easy onramp to machine learning for folks without formal data science training.\n- the amazon sagemaker was an easy stepping stone from a machine learning project in people without formal knowledge\n- amazon sagemaker was a good, simple way to use machine learning for someone without formal training for\n\n",
                "stream": "stdout"
              }
            ],
            "_view_module": "@jupyter-widgets/output",
            "_model_module_version": "1.0.0",
            "_view_count": null,
            "_view_module_version": "1.0.0",
            "layout": "IPY_MODEL_bb7e147914144c7d863aa45efd9c8b28",
            "_model_module": "@jupyter-widgets/output"
          }
        },
        "bb7e147914144c7d863aa45efd9c8b28": {
          "model_module": "@jupyter-widgets/base",
          "model_name": "LayoutModel",
          "state": {
            "_view_name": "LayoutView",
            "grid_template_rows": null,
            "right": null,
            "justify_content": null,
            "_view_module": "@jupyter-widgets/base",
            "overflow": null,
            "_model_module_version": "1.2.0",
            "_view_count": null,
            "flex_flow": null,
            "width": null,
            "min_width": null,
            "border": null,
            "align_items": null,
            "bottom": null,
            "_model_module": "@jupyter-widgets/base",
            "top": null,
            "grid_column": null,
            "overflow_y": null,
            "overflow_x": null,
            "grid_auto_flow": null,
            "grid_area": null,
            "grid_template_columns": null,
            "flex": null,
            "_model_name": "LayoutModel",
            "justify_items": null,
            "grid_row": null,
            "max_height": null,
            "align_content": null,
            "visibility": null,
            "align_self": null,
            "height": null,
            "min_height": null,
            "padding": null,
            "grid_auto_rows": null,
            "grid_gap": null,
            "max_width": null,
            "order": null,
            "_view_module_version": "1.2.0",
            "grid_template_areas": null,
            "object_position": null,
            "object_fit": null,
            "grid_auto_columns": null,
            "margin": null,
            "display": null,
            "left": null
          }
        }
      }
    }
  },
  "cells": [
    {
      "cell_type": "markdown",
      "metadata": {
        "id": "CQMxIzcS3FkM"
      },
      "source": [
        "**Data Augmentation by Paraphrasing**"
      ]
    },
    {
      "cell_type": "code",
      "metadata": {
        "colab": {
          "base_uri": "https://localhost:8080/"
        },
        "id": "aP0Ej8hI3HUK",
        "outputId": "96baccfd-b546-4ef6-ff3a-96e8161e80bf"
      },
      "source": [
        "# Install required packages\r\n",
        "!pip install torch torchvision transformers==2.10.0 rasa==1.10.0 input_reader"
      ],
      "execution_count": 4,
      "outputs": [
        {
          "output_type": "stream",
          "text": [
            "Requirement already satisfied: torch in /usr/local/lib/python3.6/dist-packages (1.7.0+cu101)\n",
            "Requirement already satisfied: torchvision in /usr/local/lib/python3.6/dist-packages (0.8.1+cu101)\n",
            "Requirement already satisfied: transformers==2.10.0 in /usr/local/lib/python3.6/dist-packages (2.10.0)\n",
            "Requirement already satisfied: rasa==1.10.0 in /usr/local/lib/python3.6/dist-packages (1.10.0)\n",
            "Requirement already satisfied: input_reader in /usr/local/lib/python3.6/dist-packages (1.2.2)\n",
            "Requirement already satisfied: numpy in /usr/local/lib/python3.6/dist-packages (from torch) (1.18.5)\n",
            "Requirement already satisfied: future in /usr/local/lib/python3.6/dist-packages (from torch) (0.16.0)\n",
            "Requirement already satisfied: typing-extensions in /usr/local/lib/python3.6/dist-packages (from torch) (3.7.4.3)\n",
            "Requirement already satisfied: dataclasses in /usr/local/lib/python3.6/dist-packages (from torch) (0.8)\n",
            "Requirement already satisfied: pillow>=4.1.1 in /usr/local/lib/python3.6/dist-packages (from torchvision) (7.0.0)\n",
            "Requirement already satisfied: tokenizers==0.7.0 in /usr/local/lib/python3.6/dist-packages (from transformers==2.10.0) (0.7.0)\n",
            "Requirement already satisfied: sentencepiece in /usr/local/lib/python3.6/dist-packages (from transformers==2.10.0) (0.1.94)\n",
            "Requirement already satisfied: filelock in /usr/local/lib/python3.6/dist-packages (from transformers==2.10.0) (3.0.12)\n",
            "Requirement already satisfied: sacremoses in /usr/local/lib/python3.6/dist-packages (from transformers==2.10.0) (0.0.43)\n",
            "Requirement already satisfied: requests in /usr/local/lib/python3.6/dist-packages (from transformers==2.10.0) (2.23.0)\n",
            "Requirement already satisfied: tqdm>=4.27 in /usr/local/lib/python3.6/dist-packages (from transformers==2.10.0) (4.41.1)\n",
            "Requirement already satisfied: regex!=2019.12.17 in /usr/local/lib/python3.6/dist-packages (from transformers==2.10.0) (2019.12.20)\n",
            "Requirement already satisfied: tensorflow<2.2,>=2.1 in /usr/local/lib/python3.6/dist-packages (from rasa==1.10.0) (2.1.2)\n",
            "Requirement already satisfied: cloudpickle<1.4,>=1.2 in /usr/local/lib/python3.6/dist-packages (from rasa==1.10.0) (1.3.0)\n",
            "Requirement already satisfied: python-telegram-bot<13.0,>=11.1 in /usr/local/lib/python3.6/dist-packages (from rasa==1.10.0) (12.8)\n",
            "Requirement already satisfied: gevent<1.6,>=1.4 in /usr/local/lib/python3.6/dist-packages (from rasa==1.10.0) (1.5.0)\n",
            "Requirement already satisfied: pydot<1.5,>=1.4 in /usr/local/lib/python3.6/dist-packages (from rasa==1.10.0) (1.4.1)\n",
            "Requirement already satisfied: mattermostwrapper<2.3,>=2.2 in /usr/local/lib/python3.6/dist-packages (from rasa==1.10.0) (2.2)\n",
            "Requirement already satisfied: colorhash<1.1.0,>=1.0.2 in /usr/local/lib/python3.6/dist-packages (from rasa==1.10.0) (1.0.3)\n",
            "Requirement already satisfied: pytz<2020.0,>=2019.1 in /usr/local/lib/python3.6/dist-packages (from rasa==1.10.0) (2019.3)\n",
            "Requirement already satisfied: sklearn-crfsuite<0.4,>=0.3 in /usr/local/lib/python3.6/dist-packages (from rasa==1.10.0) (0.3.6)\n",
            "Requirement already satisfied: python-dateutil<2.9,>=2.8 in /usr/local/lib/python3.6/dist-packages (from rasa==1.10.0) (2.8.1)\n",
            "Requirement already satisfied: python-socketio<4.6,>=4.4 in /usr/local/lib/python3.6/dist-packages (from rasa==1.10.0) (4.5.1)\n",
            "Requirement already satisfied: setuptools>=41.0.0 in /usr/local/lib/python3.6/dist-packages (from rasa==1.10.0) (50.3.2)\n",
            "Requirement already satisfied: ujson<3.0,>=1.35 in /usr/local/lib/python3.6/dist-packages (from rasa==1.10.0) (2.0.3)\n",
            "Requirement already satisfied: tensorflow-probability<0.10,>=0.7 in /usr/local/lib/python3.6/dist-packages (from rasa==1.10.0) (0.9.0)\n",
            "Requirement already satisfied: tensorflow_hub<0.9,>=0.7 in /usr/local/lib/python3.6/dist-packages (from rasa==1.10.0) (0.8.0)\n",
            "Requirement already satisfied: ruamel.yaml<0.17,>=0.16 in /usr/local/lib/python3.6/dist-packages (from rasa==1.10.0) (0.16.12)\n",
            "Requirement already satisfied: async_generator<1.11,>=1.10 in /usr/local/lib/python3.6/dist-packages (from rasa==1.10.0) (1.10)\n",
            "Requirement already satisfied: attrs<19.4,>=19.3 in /usr/local/lib/python3.6/dist-packages (from rasa==1.10.0) (19.3.0)\n",
            "Requirement already satisfied: questionary<1.6.0,>=1.5.1 in /usr/local/lib/python3.6/dist-packages (from rasa==1.10.0) (1.5.2)\n",
            "Requirement already satisfied: twilio<6.27,>=6.26 in /usr/local/lib/python3.6/dist-packages (from rasa==1.10.0) (6.26.3)\n",
            "Requirement already satisfied: oauth2client==4.1.3 in /usr/local/lib/python3.6/dist-packages (from rasa==1.10.0) (4.1.3)\n",
            "Requirement already satisfied: scipy<2.0.0,>=1.4.1 in /usr/local/lib/python3.6/dist-packages (from rasa==1.10.0) (1.4.1)\n",
            "Requirement already satisfied: matplotlib<3.3,>=3.1 in /usr/local/lib/python3.6/dist-packages (from rasa==1.10.0) (3.2.2)\n",
            "Requirement already satisfied: coloredlogs<11.0,>=10.0 in /usr/local/lib/python3.6/dist-packages (from rasa==1.10.0) (10.0)\n",
            "Requirement already satisfied: kafka-python<2.0,>=1.4 in /usr/local/lib/python3.6/dist-packages (from rasa==1.10.0) (1.4.7)\n",
            "Requirement already satisfied: redis<4.0,>=3.4 in /usr/local/lib/python3.6/dist-packages (from rasa==1.10.0) (3.5.3)\n",
            "Requirement already satisfied: SQLAlchemy<1.4.0,>=1.3.3 in /usr/local/lib/python3.6/dist-packages (from rasa==1.10.0) (1.3.20)\n",
            "Requirement already satisfied: pymongo[srv,tls]<3.9.0,>=3.8.0 in /usr/local/lib/python3.6/dist-packages (from rasa==1.10.0) (3.8.0)\n",
            "Requirement already satisfied: pika<1.2.0,>=1.1.0 in /usr/local/lib/python3.6/dist-packages (from rasa==1.10.0) (1.1.0)\n",
            "Requirement already satisfied: rasa-sdk<2.0.0,>=1.10.0 in /usr/local/lib/python3.6/dist-packages (from rasa==1.10.0) (1.10.3)\n",
            "Requirement already satisfied: jsonpickle<1.5,>=1.3 in /usr/local/lib/python3.6/dist-packages (from rasa==1.10.0) (1.4.2)\n",
            "Requirement already satisfied: webexteamssdk<1.4.0,>=1.1.1 in /usr/local/lib/python3.6/dist-packages (from rasa==1.10.0) (1.3)\n",
            "Requirement already satisfied: boto3<2.0,>=1.12 in /usr/local/lib/python3.6/dist-packages (from rasa==1.10.0) (1.16.34)\n",
            "Requirement already satisfied: tensorflow-estimator==2.1.0 in /usr/local/lib/python3.6/dist-packages (from rasa==1.10.0) (2.1.0)\n",
            "Requirement already satisfied: tensorflow-addons<0.8.0,>=0.7.1 in /usr/local/lib/python3.6/dist-packages (from rasa==1.10.0) (0.7.1)\n",
            "Requirement already satisfied: PyJWT<1.8,>=1.7 in /usr/local/lib/python3.6/dist-packages (from rasa==1.10.0) (1.7.1)\n",
            "Requirement already satisfied: psycopg2-binary<2.9.0,>=2.8.2 in /usr/local/lib/python3.6/dist-packages (from rasa==1.10.0) (2.8.6)\n",
            "Requirement already satisfied: fbmessenger<6.1.0,>=6.0.0 in /usr/local/lib/python3.6/dist-packages (from rasa==1.10.0) (6.0.0)\n",
            "Requirement already satisfied: apscheduler<3.7,>=3.6 in /usr/local/lib/python3.6/dist-packages (from rasa==1.10.0) (3.6.3)\n",
            "Requirement already satisfied: rocketchat_API<1.4.0,>=0.6.31 in /usr/local/lib/python3.6/dist-packages (from rasa==1.10.0) (1.3.1)\n",
            "Requirement already satisfied: networkx<2.5.0,>=2.4.0 in /usr/local/lib/python3.6/dist-packages (from rasa==1.10.0) (2.4)\n",
            "Requirement already satisfied: sanic-jwt<1.5.0,>=1.3.2 in /usr/local/lib/python3.6/dist-packages (from rasa==1.10.0) (1.4.1)\n",
            "Requirement already satisfied: slackclient<3.0.0,>=2.0.0 in /usr/local/lib/python3.6/dist-packages (from rasa==1.10.0) (2.9.3)\n",
            "Requirement already satisfied: sanic-cors<0.11.0,>=0.10.0b1 in /usr/local/lib/python3.6/dist-packages (from rasa==1.10.0) (0.10.0.post3)\n",
            "Requirement already satisfied: terminaltables<3.2.0,>=3.1.0 in /usr/local/lib/python3.6/dist-packages (from rasa==1.10.0) (3.1.0)\n",
            "Requirement already satisfied: python-engineio<3.13,>=3.11 in /usr/local/lib/python3.6/dist-packages (from rasa==1.10.0) (3.12.1)\n",
            "Requirement already satisfied: packaging<19.1,>=19.0 in /usr/local/lib/python3.6/dist-packages (from rasa==1.10.0) (19.0)\n",
            "Requirement already satisfied: aiohttp<3.7,>=3.6 in /usr/local/lib/python3.6/dist-packages (from rasa==1.10.0) (3.6.3)\n",
            "Requirement already satisfied: scikit-learn<0.23,>=0.22 in /usr/local/lib/python3.6/dist-packages (from rasa==1.10.0) (0.22.2.post1)\n",
            "Requirement already satisfied: jsonschema<3.3,>=3.2 in /usr/local/lib/python3.6/dist-packages (from rasa==1.10.0) (3.2.0)\n",
            "Requirement already satisfied: prompt-toolkit<3.0,>=2.0 in /usr/local/lib/python3.6/dist-packages (from rasa==1.10.0) (2.0.10)\n",
            "Requirement already satisfied: sanic<20.0.0,>=19.12.2 in /usr/local/lib/python3.6/dist-packages (from rasa==1.10.0) (19.12.4)\n",
            "Requirement already satisfied: absl-py<0.10,>=0.9 in /usr/local/lib/python3.6/dist-packages (from rasa==1.10.0) (0.9.0)\n",
            "Requirement already satisfied: multidict<5.0,>=4.6 in /usr/local/lib/python3.6/dist-packages (from rasa==1.10.0) (4.7.6)\n",
            "Requirement already satisfied: colorclass<2.3,>=2.2 in /usr/local/lib/python3.6/dist-packages (from rasa==1.10.0) (2.2.0)\n",
            "Requirement already satisfied: pykwalify<1.8.0,>=1.7.0 in /usr/local/lib/python3.6/dist-packages (from rasa==1.10.0) (1.7.0)\n",
            "Requirement already satisfied: joblib in /usr/local/lib/python3.6/dist-packages (from sacremoses->transformers==2.10.0) (0.17.0)\n",
            "Requirement already satisfied: six in /usr/local/lib/python3.6/dist-packages (from sacremoses->transformers==2.10.0) (1.15.0)\n",
            "Requirement already satisfied: click in /usr/local/lib/python3.6/dist-packages (from sacremoses->transformers==2.10.0) (7.1.2)\n",
            "Requirement already satisfied: chardet<4,>=3.0.2 in /usr/local/lib/python3.6/dist-packages (from requests->transformers==2.10.0) (3.0.4)\n",
            "Requirement already satisfied: urllib3!=1.25.0,!=1.25.1,<1.26,>=1.21.1 in /usr/local/lib/python3.6/dist-packages (from requests->transformers==2.10.0) (1.24.3)\n",
            "Requirement already satisfied: certifi>=2017.4.17 in /usr/local/lib/python3.6/dist-packages (from requests->transformers==2.10.0) (2020.12.5)\n",
            "Requirement already satisfied: idna<3,>=2.5 in /usr/local/lib/python3.6/dist-packages (from requests->transformers==2.10.0) (2.10)\n",
            "Requirement already satisfied: wheel>=0.26; python_version >= \"3\" in /usr/local/lib/python3.6/dist-packages (from tensorflow<2.2,>=2.1->rasa==1.10.0) (0.36.1)\n",
            "Requirement already satisfied: wrapt>=1.11.1 in /usr/local/lib/python3.6/dist-packages (from tensorflow<2.2,>=2.1->rasa==1.10.0) (1.12.1)\n",
            "Requirement already satisfied: protobuf>=3.8.0 in /usr/local/lib/python3.6/dist-packages (from tensorflow<2.2,>=2.1->rasa==1.10.0) (3.12.4)\n",
            "Requirement already satisfied: termcolor>=1.1.0 in /usr/local/lib/python3.6/dist-packages (from tensorflow<2.2,>=2.1->rasa==1.10.0) (1.1.0)\n",
            "Requirement already satisfied: tensorboard<2.2.0,>=2.1.0 in /usr/local/lib/python3.6/dist-packages (from tensorflow<2.2,>=2.1->rasa==1.10.0) (2.1.1)\n",
            "Requirement already satisfied: google-pasta>=0.1.6 in /usr/local/lib/python3.6/dist-packages (from tensorflow<2.2,>=2.1->rasa==1.10.0) (0.2.0)\n",
            "Requirement already satisfied: gast==0.2.2 in /usr/local/lib/python3.6/dist-packages (from tensorflow<2.2,>=2.1->rasa==1.10.0) (0.2.2)\n",
            "Requirement already satisfied: keras-applications>=1.0.8 in /usr/local/lib/python3.6/dist-packages (from tensorflow<2.2,>=2.1->rasa==1.10.0) (1.0.8)\n",
            "Requirement already satisfied: keras-preprocessing==1.1.0 in /usr/local/lib/python3.6/dist-packages (from tensorflow<2.2,>=2.1->rasa==1.10.0) (1.1.0)\n",
            "Requirement already satisfied: opt-einsum>=2.3.2 in /usr/local/lib/python3.6/dist-packages (from tensorflow<2.2,>=2.1->rasa==1.10.0) (3.3.0)\n",
            "Requirement already satisfied: grpcio>=1.8.6 in /usr/local/lib/python3.6/dist-packages (from tensorflow<2.2,>=2.1->rasa==1.10.0) (1.34.0)\n",
            "Requirement already satisfied: astor>=0.6.0 in /usr/local/lib/python3.6/dist-packages (from tensorflow<2.2,>=2.1->rasa==1.10.0) (0.8.1)\n",
            "Requirement already satisfied: tornado>=5.1 in /usr/local/lib/python3.6/dist-packages (from python-telegram-bot<13.0,>=11.1->rasa==1.10.0) (5.1.1)\n",
            "Requirement already satisfied: decorator>=4.4.0 in /usr/local/lib/python3.6/dist-packages (from python-telegram-bot<13.0,>=11.1->rasa==1.10.0) (4.4.2)\n",
            "Requirement already satisfied: cryptography in /usr/local/lib/python3.6/dist-packages (from python-telegram-bot<13.0,>=11.1->rasa==1.10.0) (3.3.1)\n",
            "Requirement already satisfied: greenlet>=0.4.14; platform_python_implementation == \"CPython\" in /usr/local/lib/python3.6/dist-packages (from gevent<1.6,>=1.4->rasa==1.10.0) (0.4.17)\n",
            "Requirement already satisfied: pyparsing>=2.1.4 in /usr/local/lib/python3.6/dist-packages (from pydot<1.5,>=1.4->rasa==1.10.0) (2.4.7)\n",
            "Requirement already satisfied: tabulate in /usr/local/lib/python3.6/dist-packages (from sklearn-crfsuite<0.4,>=0.3->rasa==1.10.0) (0.8.7)\n",
            "Requirement already satisfied: python-crfsuite>=0.8.3 in /usr/local/lib/python3.6/dist-packages (from sklearn-crfsuite<0.4,>=0.3->rasa==1.10.0) (0.9.7)\n",
            "Requirement already satisfied: ruamel.yaml.clib>=0.1.2; platform_python_implementation == \"CPython\" and python_version < \"3.9\" in /usr/local/lib/python3.6/dist-packages (from ruamel.yaml<0.17,>=0.16->rasa==1.10.0) (0.2.2)\n",
            "Requirement already satisfied: pysocks; python_version >= \"3.0\" in /usr/local/lib/python3.6/dist-packages (from twilio<6.27,>=6.26->rasa==1.10.0) (1.7.1)\n",
            "Requirement already satisfied: pyasn1-modules>=0.0.5 in /usr/local/lib/python3.6/dist-packages (from oauth2client==4.1.3->rasa==1.10.0) (0.2.8)\n",
            "Requirement already satisfied: httplib2>=0.9.1 in /usr/local/lib/python3.6/dist-packages (from oauth2client==4.1.3->rasa==1.10.0) (0.17.4)\n",
            "Requirement already satisfied: rsa>=3.1.4 in /usr/local/lib/python3.6/dist-packages (from oauth2client==4.1.3->rasa==1.10.0) (4.6)\n",
            "Requirement already satisfied: pyasn1>=0.1.7 in /usr/local/lib/python3.6/dist-packages (from oauth2client==4.1.3->rasa==1.10.0) (0.4.8)\n",
            "Requirement already satisfied: kiwisolver>=1.0.1 in /usr/local/lib/python3.6/dist-packages (from matplotlib<3.3,>=3.1->rasa==1.10.0) (1.3.1)\n",
            "Requirement already satisfied: cycler>=0.10 in /usr/local/lib/python3.6/dist-packages (from matplotlib<3.3,>=3.1->rasa==1.10.0) (0.10.0)\n",
            "Requirement already satisfied: humanfriendly>=4.7 in /usr/local/lib/python3.6/dist-packages (from coloredlogs<11.0,>=10.0->rasa==1.10.0) (9.1)\n",
            "Requirement already satisfied: dnspython<2.0.0,>=1.13.0; extra == \"srv\" in /usr/local/lib/python3.6/dist-packages (from pymongo[srv,tls]<3.9.0,>=3.8.0->rasa==1.10.0) (1.16.0)\n",
            "Requirement already satisfied: importlib-metadata; python_version < \"3.8\" in /usr/local/lib/python3.6/dist-packages (from jsonpickle<1.5,>=1.3->rasa==1.10.0) (3.1.1)\n",
            "Requirement already satisfied: requests-toolbelt in /usr/local/lib/python3.6/dist-packages (from webexteamssdk<1.4.0,>=1.1.1->rasa==1.10.0) (0.9.1)\n",
            "Requirement already satisfied: jmespath<1.0.0,>=0.7.1 in /usr/local/lib/python3.6/dist-packages (from boto3<2.0,>=1.12->rasa==1.10.0) (0.10.0)\n",
            "Requirement already satisfied: s3transfer<0.4.0,>=0.3.0 in /usr/local/lib/python3.6/dist-packages (from boto3<2.0,>=1.12->rasa==1.10.0) (0.3.3)\n",
            "Requirement already satisfied: botocore<1.20.0,>=1.19.34 in /usr/local/lib/python3.6/dist-packages (from boto3<2.0,>=1.12->rasa==1.10.0) (1.19.34)\n",
            "Requirement already satisfied: tzlocal>=1.2 in /usr/local/lib/python3.6/dist-packages (from apscheduler<3.7,>=3.6->rasa==1.10.0) (1.5.1)\n",
            "Requirement already satisfied: sanic-plugins-framework>=0.9.0 in /usr/local/lib/python3.6/dist-packages (from sanic-cors<0.11.0,>=0.10.0b1->rasa==1.10.0) (0.9.4.post1)\n",
            "Requirement already satisfied: idna-ssl>=1.0; python_version < \"3.7\" in /usr/local/lib/python3.6/dist-packages (from aiohttp<3.7,>=3.6->rasa==1.10.0) (1.1.0)\n",
            "Requirement already satisfied: yarl<1.6.0,>=1.0 in /usr/local/lib/python3.6/dist-packages (from aiohttp<3.7,>=3.6->rasa==1.10.0) (1.5.1)\n",
            "Requirement already satisfied: async-timeout<4.0,>=3.0 in /usr/local/lib/python3.6/dist-packages (from aiohttp<3.7,>=3.6->rasa==1.10.0) (3.0.1)\n",
            "Requirement already satisfied: pyrsistent>=0.14.0 in /usr/local/lib/python3.6/dist-packages (from jsonschema<3.3,>=3.2->rasa==1.10.0) (0.17.3)\n",
            "Requirement already satisfied: wcwidth in /usr/local/lib/python3.6/dist-packages (from prompt-toolkit<3.0,>=2.0->rasa==1.10.0) (0.2.5)\n",
            "Requirement already satisfied: httptools>=0.0.10 in /usr/local/lib/python3.6/dist-packages (from sanic<20.0.0,>=19.12.2->rasa==1.10.0) (0.1.1)\n",
            "Requirement already satisfied: aiofiles>=0.3.0 in /usr/local/lib/python3.6/dist-packages (from sanic<20.0.0,>=19.12.2->rasa==1.10.0) (0.6.0)\n",
            "Requirement already satisfied: websockets<9.0,>=7.0 in /usr/local/lib/python3.6/dist-packages (from sanic<20.0.0,>=19.12.2->rasa==1.10.0) (8.1)\n",
            "Requirement already satisfied: uvloop>=0.5.3; sys_platform != \"win32\" and implementation_name == \"cpython\" in /usr/local/lib/python3.6/dist-packages (from sanic<20.0.0,>=19.12.2->rasa==1.10.0) (0.14.0)\n",
            "Requirement already satisfied: httpx==0.9.3 in /usr/local/lib/python3.6/dist-packages (from sanic<20.0.0,>=19.12.2->rasa==1.10.0) (0.9.3)\n",
            "Requirement already satisfied: docopt>=0.6.2 in /usr/local/lib/python3.6/dist-packages (from pykwalify<1.8.0,>=1.7.0->rasa==1.10.0) (0.6.2)\n",
            "Requirement already satisfied: PyYAML>=3.11 in /usr/local/lib/python3.6/dist-packages (from pykwalify<1.8.0,>=1.7.0->rasa==1.10.0) (3.13)\n",
            "Requirement already satisfied: werkzeug>=0.11.15 in /usr/local/lib/python3.6/dist-packages (from tensorboard<2.2.0,>=2.1.0->tensorflow<2.2,>=2.1->rasa==1.10.0) (1.0.1)\n",
            "Requirement already satisfied: google-auth<2,>=1.6.3 in /usr/local/lib/python3.6/dist-packages (from tensorboard<2.2.0,>=2.1.0->tensorflow<2.2,>=2.1->rasa==1.10.0) (1.17.2)\n",
            "Requirement already satisfied: markdown>=2.6.8 in /usr/local/lib/python3.6/dist-packages (from tensorboard<2.2.0,>=2.1.0->tensorflow<2.2,>=2.1->rasa==1.10.0) (3.3.3)\n",
            "Requirement already satisfied: google-auth-oauthlib<0.5,>=0.4.1 in /usr/local/lib/python3.6/dist-packages (from tensorboard<2.2.0,>=2.1.0->tensorflow<2.2,>=2.1->rasa==1.10.0) (0.4.2)\n",
            "Requirement already satisfied: h5py in /usr/local/lib/python3.6/dist-packages (from keras-applications>=1.0.8->tensorflow<2.2,>=2.1->rasa==1.10.0) (2.10.0)\n",
            "Requirement already satisfied: cffi>=1.12 in /usr/local/lib/python3.6/dist-packages (from cryptography->python-telegram-bot<13.0,>=11.1->rasa==1.10.0) (1.14.4)\n",
            "Requirement already satisfied: zipp>=0.5 in /usr/local/lib/python3.6/dist-packages (from importlib-metadata; python_version < \"3.8\"->jsonpickle<1.5,>=1.3->rasa==1.10.0) (3.4.0)\n",
            "Requirement already satisfied: h2==3.* in /usr/local/lib/python3.6/dist-packages (from httpx==0.9.3->sanic<20.0.0,>=19.12.2->rasa==1.10.0) (3.2.0)\n",
            "Requirement already satisfied: hstspreload in /usr/local/lib/python3.6/dist-packages (from httpx==0.9.3->sanic<20.0.0,>=19.12.2->rasa==1.10.0) (2020.11.21)\n",
            "Requirement already satisfied: h11==0.8.* in /usr/local/lib/python3.6/dist-packages (from httpx==0.9.3->sanic<20.0.0,>=19.12.2->rasa==1.10.0) (0.8.1)\n",
            "Requirement already satisfied: rfc3986<2,>=1.3 in /usr/local/lib/python3.6/dist-packages (from httpx==0.9.3->sanic<20.0.0,>=19.12.2->rasa==1.10.0) (1.4.0)\n",
            "Requirement already satisfied: sniffio==1.* in /usr/local/lib/python3.6/dist-packages (from httpx==0.9.3->sanic<20.0.0,>=19.12.2->rasa==1.10.0) (1.2.0)\n",
            "Requirement already satisfied: cachetools<5.0,>=2.0.0 in /usr/local/lib/python3.6/dist-packages (from google-auth<2,>=1.6.3->tensorboard<2.2.0,>=2.1.0->tensorflow<2.2,>=2.1->rasa==1.10.0) (4.1.1)\n",
            "Requirement already satisfied: requests-oauthlib>=0.7.0 in /usr/local/lib/python3.6/dist-packages (from google-auth-oauthlib<0.5,>=0.4.1->tensorboard<2.2.0,>=2.1.0->tensorflow<2.2,>=2.1->rasa==1.10.0) (1.3.0)\n",
            "Requirement already satisfied: pycparser in /usr/local/lib/python3.6/dist-packages (from cffi>=1.12->cryptography->python-telegram-bot<13.0,>=11.1->rasa==1.10.0) (2.20)\n",
            "Requirement already satisfied: hyperframe<6,>=5.2.0 in /usr/local/lib/python3.6/dist-packages (from h2==3.*->httpx==0.9.3->sanic<20.0.0,>=19.12.2->rasa==1.10.0) (5.2.0)\n",
            "Requirement already satisfied: hpack<4,>=3.0 in /usr/local/lib/python3.6/dist-packages (from h2==3.*->httpx==0.9.3->sanic<20.0.0,>=19.12.2->rasa==1.10.0) (3.0.0)\n",
            "Requirement already satisfied: contextvars>=2.1; python_version < \"3.7\" in /usr/local/lib/python3.6/dist-packages (from sniffio==1.*->httpx==0.9.3->sanic<20.0.0,>=19.12.2->rasa==1.10.0) (2.4)\n",
            "Requirement already satisfied: oauthlib>=3.0.0 in /usr/local/lib/python3.6/dist-packages (from requests-oauthlib>=0.7.0->google-auth-oauthlib<0.5,>=0.4.1->tensorboard<2.2.0,>=2.1.0->tensorflow<2.2,>=2.1->rasa==1.10.0) (3.1.0)\n",
            "Requirement already satisfied: immutables>=0.9 in /usr/local/lib/python3.6/dist-packages (from contextvars>=2.1; python_version < \"3.7\"->sniffio==1.*->httpx==0.9.3->sanic<20.0.0,>=19.12.2->rasa==1.10.0) (0.14)\n"
          ],
          "name": "stdout"
        }
      ]
    },
    {
      "cell_type": "code",
      "metadata": {
        "id": "RcGtH9Hi3Vdk"
      },
      "source": [
        "# Import required libraries\r\n",
        "import ipywidgets as widgets\r\n",
        "import requests, os\r\n",
        "from IPython.display import display\r\n",
        "from ipywidgets import interact\r\n",
        "\r\n",
        "from rasa.nlu.training_data import TrainingData,Message"
      ],
      "execution_count": 5,
      "outputs": []
    },
    {
      "cell_type": "markdown",
      "metadata": {
        "id": "v22HtUAN395b"
      },
      "source": [
        "**Download Model**"
      ]
    },
    {
      "cell_type": "code",
      "metadata": {
        "colab": {
          "base_uri": "https://localhost:8080/"
        },
        "id": "3PNuPEh33cpX",
        "outputId": "2c7e7f52-8ee1-4d48-f9e2-fb12fed907d7"
      },
      "source": [
        "def download_file(id, destination):\r\n",
        "    url = \"https://docs.google.com/uc?export=download\"\r\n",
        "    sess = requests.Session()\r\n",
        "    response = sess.get(url, params = { 'id' : id }, stream = True)\r\n",
        "    token = get_confirmation_token(response)\r\n",
        "    if token:\r\n",
        "        params = { 'id' : id, 'confirm' : token }\r\n",
        "        response = sess.get(url, params = params, stream = True)\r\n",
        "    save_response_content(response, destination)    \r\n",
        "\r\n",
        "def get_confirmation_token(response):\r\n",
        "    for key, value in response.cookies.items():\r\n",
        "        if key.startswith('download_warning'):\r\n",
        "            return value\r\n",
        "    return None\r\n",
        "\r\n",
        "def save_response_content(response, destination):\r\n",
        "    chunk_size = 32768\r\n",
        "    with open(destination, \"wb\") as f:\r\n",
        "        for chunk in response.iter_content(chunk_size):\r\n",
        "            if chunk:\r\n",
        "                f.write(chunk)\r\n",
        "\r\n",
        "model_class_file_id = '1N1kn2b7i2ND7eNefzyJM-k13IM8tqZvr'\r\n",
        "checkpoint_file_id = '1G0nwXlvzGsb8Ar-OAnYBQKFvY97WMzBy'\r\n",
        "model_class_destination = 'model.py'\r\n",
        "checkpoint_destination = 'model.zip'\r\n",
        "checkpoint_unzipped_destination = 'package_models'\r\n",
        "\r\n",
        "if not os.path.exists(checkpoint_unzipped_destination):\r\n",
        "  download_file(checkpoint_file_id, checkpoint_destination)\r\n",
        "  !unzip {checkpoint_destination}\r\n",
        "\r\n",
        "if not os.path.exists(model_class_destination):\r\n",
        "  download_file(model_class_file_id, model_class_destination)"
      ],
      "execution_count": 9,
      "outputs": [
        {
          "output_type": "stream",
          "text": [
            "Archive:  model.zip\n",
            "   creating: package_models/\n",
            "  inflating: package_models/.DS_Store  \n",
            "   creating: __MACOSX/\n",
            "   creating: __MACOSX/package_models/\n",
            "  inflating: __MACOSX/package_models/._.DS_Store  \n",
            "   creating: package_models/lm_finetune_8/\n",
            "   creating: package_models/lm_finetune_8/checkpoint-56000/\n",
            "  inflating: package_models/lm_finetune_8/checkpoint-56000/added_tokens.json  \n",
            "  inflating: package_models/lm_finetune_8/checkpoint-56000/tokenizer_config.json  \n",
            "  inflating: package_models/lm_finetune_8/checkpoint-56000/special_tokens_map.json  \n",
            "  inflating: package_models/lm_finetune_8/checkpoint-56000/optimizer.pt  \n",
            "  inflating: package_models/lm_finetune_8/checkpoint-56000/config.json  \n",
            "  inflating: package_models/lm_finetune_8/checkpoint-56000/scheduler.pt  \n",
            "  inflating: package_models/lm_finetune_8/checkpoint-56000/merges.txt  \n",
            "  inflating: package_models/lm_finetune_8/checkpoint-56000/training_args.bin  \n",
            "  inflating: package_models/lm_finetune_8/checkpoint-56000/pytorch_model.bin  \n",
            "  inflating: package_models/lm_finetune_8/checkpoint-56000/vocab.json  \n"
          ],
          "name": "stdout"
        }
      ]
    },
    {
      "cell_type": "markdown",
      "metadata": {
        "id": "ZnYYGji664bv"
      },
      "source": [
        "**Setup Model**"
      ]
    },
    {
      "cell_type": "code",
      "metadata": {
        "id": "gFKCcXqK63x5"
      },
      "source": [
        "from model import ParaphraseModel\r\n",
        "model_path = 'package_models/lm_finetune_8/checkpoint-56000/'\r\n",
        "\r\n",
        "complete_td = TrainingData()\r\n",
        "model = ParaphraseModel(model_path)"
      ],
      "execution_count": 10,
      "outputs": []
    },
    {
      "cell_type": "markdown",
      "metadata": {
        "id": "iMADfC5b7lAg"
      },
      "source": [
        "**Paraphrase**"
      ]
    },
    {
      "cell_type": "code",
      "metadata": {
        "colab": {
          "base_uri": "https://localhost:8080/"
        },
        "id": "CQxHIFeZ7Dk3",
        "outputId": "c5c83ee7-901f-489a-f6e7-e5a46564a2b7"
      },
      "source": [
        "input_phrase = input(\"Enter a message for which you would like to generate paraphrase: \")"
      ],
      "execution_count": 12,
      "outputs": [
        {
          "output_type": "stream",
          "text": [
            "Enter a message for which you would like to generate paraphrase: At launch, Amazon SageMaker was an easy onramp to machine learning for folks without formal data science training.\n"
          ],
          "name": "stdout"
        }
      ]
    },
    {
      "cell_type": "code",
      "metadata": {
        "colab": {
          "base_uri": "https://localhost:8080/"
        },
        "id": "kzN3AyQe7sHy",
        "outputId": "646b31bd-581c-4f69-f0e9-10164c5f1efd"
      },
      "source": [
        "number_of_samples = int(input(\"Number of paraphrases to generate: \"))\r\n",
        "stop_words = input(\"Stop words to be constrained with(multiple semi-colon separated): \")"
      ],
      "execution_count": 13,
      "outputs": [
        {
          "output_type": "stream",
          "text": [
            "Number of paraphrases to generate: 2\n",
            "Stop words to be constrained with(multiple semi-colon separated): .\n"
          ],
          "name": "stdout"
        }
      ]
    },
    {
      "cell_type": "code",
      "metadata": {
        "colab": {
          "base_uri": "https://localhost:8080/"
        },
        "id": "r9IFyZKa8nFs",
        "outputId": "9d99b2d9-deca-4b4c-dd43-b3523d129922"
      },
      "source": [
        "paraphrase = model.get_paraphrases(input_phrase, number_of_samples, stop_words)"
      ],
      "execution_count": 14,
      "outputs": [
        {
          "output_type": "stream",
          "text": [
            "100%|██████████| 20/20 [00:06<00:00,  2.87it/s]\n"
          ],
          "name": "stderr"
        }
      ]
    },
    {
      "cell_type": "code",
      "metadata": {
        "colab": {
          "base_uri": "https://localhost:8080/"
        },
        "id": "_rpJCBDq9Cwj",
        "outputId": "272b28b7-0ffb-44d6-ed3e-50705865961e"
      },
      "source": [
        "print(\"Steps:\\n1. Read all proposed paraphrases below.\\n2. Select valid paraphrases that you would like\\\r\n",
        " to add to your NLU training data. Use Ctrl/Cmd + Click to select multiple.\\n\\\r\n",
        "3. Enter the name of the intent under which these messages should be categorized\\n\\\r\n",
        "4. Click 'Add to training data'\\n\\\r\n",
        "5. Copy the training data displayed in Rasa Markdown format to your existing training data file.\\n\\\r\n",
        "6. You can go back to 3 cells above this to enter new messages for which you want to generate paraphrases.\")\r\n"
      ],
      "execution_count": 15,
      "outputs": [
        {
          "output_type": "stream",
          "text": [
            "Steps:\n",
            "1. Read all proposed paraphrases below.\n",
            "2. Select valid paraphrases that you would like to add to your NLU training data. Use Ctrl/Cmd + Click to select multiple.\n",
            "3. Enter the name of the intent under which these messages should be categorized\n",
            "4. Click 'Add to training data'\n",
            "5. Copy the training data displayed in Rasa Markdown format to your existing training data file.\n",
            "6. You can go back to 3 cells above this to enter new messages for which you want to generate paraphrases.\n"
          ],
          "name": "stdout"
        }
      ]
    },
    {
      "cell_type": "code",
      "metadata": {
        "colab": {
          "base_uri": "https://localhost:8080/",
          "height": 233,
          "referenced_widgets": [
            "5c19586038154822a662ee396fe4cc32",
            "71b55f4d01f144a0b49d17144b242d33",
            "28327f6c29e44d179bcbdaa7998d1255",
            "c798bf647dc04287be4ed7da1bb74870",
            "cc107152aec8469f8a324624221ba958",
            "78ed7d7f340a4f64bd845b743737e1bc",
            "2e6f88228a0a47ca95f6fceb6f67b0fe",
            "f7465b69bc1e4a94b35ef55f21fcf58c",
            "b1d7cb96fbb54acc88616c1b937a3bdd",
            "533fb959beac4925bec85f30fb9e0102",
            "bb7e147914144c7d863aa45efd9c8b28"
          ]
        },
        "id": "6V1VzowQ80lG",
        "outputId": "c59e2b77-08c4-4c7b-fff1-0ca01e460bed"
      },
      "source": [
        "paraphrase_input_widget = widgets.SelectMultiple(\r\n",
        "    options=paraphrase,\r\n",
        "    value=[],\r\n",
        "    rows=number_of_samples,\r\n",
        "    description='Paraphrases',\r\n",
        "    disabled=False,\r\n",
        "    layout= widgets.Layout(width='100%')\r\n",
        ")\r\n",
        "display(paraphrase_input_widget)\r\n",
        "\r\n",
        "intent = widgets.Text(description=\"Intent\")\r\n",
        "display(intent)\r\n",
        "\r\n",
        "button = widgets.Button(description=\"Add to Training Data\")\r\n",
        "widget_output = widgets.Output()\r\n",
        "\r\n",
        "display(button, widget_output)\r\n",
        "\r\n",
        "def on_button_click(b):\r\n",
        "    global complete_td\r\n",
        "    with widget_output:\r\n",
        "        intent_value = intent.value\r\n",
        "        selected_paraphrase = paraphrase_input_widget.value\r\n",
        "        if not len(selected_paraphrase):\r\n",
        "            print(\"Error: You haven't selected any paraphrases\")\r\n",
        "            return\r\n",
        "        if not intent_value:\r\n",
        "            print(\"Error: Please enter the intent name under which these messages should be categorized.\")\r\n",
        "            return\r\n",
        "        all_messages = [Message.build(text=input_phrase, intent=intent_value)]\r\n",
        "        for p in selected_paraphrase:\r\n",
        "            all_messages.append(Message.build(text=p,intent=intent_value))\r\n",
        "        complete_td = complete_td.merge(TrainingData(training_examples=all_messages)) \r\n",
        "        print(complete_td.nlu_as_markdown())\r\n",
        "button.on_click(on_button_click)"
      ],
      "execution_count": 19,
      "outputs": [
        {
          "output_type": "display_data",
          "data": {
            "application/vnd.jupyter.widget-view+json": {
              "model_id": "5c19586038154822a662ee396fe4cc32",
              "version_minor": 0,
              "version_major": 2
            },
            "text/plain": [
              "SelectMultiple(description='Paraphrases', layout=Layout(width='100%'), options=('the amazon sagemaker was an e…"
            ]
          },
          "metadata": {
            "tags": []
          }
        },
        {
          "output_type": "display_data",
          "data": {
            "application/vnd.jupyter.widget-view+json": {
              "model_id": "c798bf647dc04287be4ed7da1bb74870",
              "version_minor": 0,
              "version_major": 2
            },
            "text/plain": [
              "Text(value='', description='Intent')"
            ]
          },
          "metadata": {
            "tags": []
          }
        },
        {
          "output_type": "display_data",
          "data": {
            "application/vnd.jupyter.widget-view+json": {
              "model_id": "2e6f88228a0a47ca95f6fceb6f67b0fe",
              "version_minor": 0,
              "version_major": 2
            },
            "text/plain": [
              "Button(description='Add to Training Data', style=ButtonStyle())"
            ]
          },
          "metadata": {
            "tags": []
          }
        },
        {
          "output_type": "display_data",
          "data": {
            "application/vnd.jupyter.widget-view+json": {
              "model_id": "533fb959beac4925bec85f30fb9e0102",
              "version_minor": 0,
              "version_major": 2
            },
            "text/plain": [
              "Output()"
            ]
          },
          "metadata": {
            "tags": []
          }
        }
      ]
    },
    {
      "cell_type": "code",
      "metadata": {
        "id": "V37exiIs9vJX"
      },
      "source": [
        ""
      ],
      "execution_count": null,
      "outputs": []
    }
  ]
}