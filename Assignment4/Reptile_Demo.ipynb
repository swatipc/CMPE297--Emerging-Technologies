{
  "nbformat": 4,
  "nbformat_minor": 0,
  "metadata": {
    "colab": {
      "name": "Reptile_Demo.ipynb",
      "provenance": []
    },
    "kernelspec": {
      "name": "python3",
      "display_name": "Python 3"
    }
  },
  "cells": [
    {
      "cell_type": "markdown",
      "metadata": {
        "id": "oTep596f3Izy"
      },
      "source": [
        "# Sine wave Regression Using Reptile"
      ]
    },
    {
      "cell_type": "code",
      "metadata": {
        "id": "HaDzpl0227Aq"
      },
      "source": [
        "# Import required libraries\n",
        "\n",
        "import tensorflow.compat.v1 as tf\n",
        "import numpy as np"
      ],
      "execution_count": 2,
      "outputs": []
    },
    {
      "cell_type": "code",
      "metadata": {
        "id": "N3ZKO0JE3ZDS"
      },
      "source": [
        "# Generate Data Points\n",
        "\n",
        "def generate_sample_points(n):\n",
        "  num_point = 150\n",
        "  amplitude = np.random.uniform(low=0.1, high=6.0)\n",
        "  phase = np.random.uniform(low=0, high=np.pi)\n",
        "  x = np.linspace(-6,6,num_point)\n",
        "  y= amplitude * np.sin(x + phase)\n",
        "  sample = np.random.choice(np.arange(num_point), size=n)\n",
        "  return (x[sample],y[sample])"
      ],
      "execution_count": 3,
      "outputs": []
    },
    {
      "cell_type": "code",
      "metadata": {
        "id": "TS0rSf1K4NYN",
        "outputId": "baa4c52a-1a7d-4306-ea2c-b12e46ad6a49",
        "colab": {
          "base_uri": "https://localhost:8080/"
        }
      },
      "source": [
        "x, y = generate_sample_points(5)\n",
        "print(x)"
      ],
      "execution_count": 4,
      "outputs": [
        {
          "output_type": "stream",
          "text": [
            "[ 1.81208054  4.06711409 -0.36241611 -1.73154362 -5.3557047 ]\n"
          ],
          "name": "stdout"
        }
      ]
    },
    {
      "cell_type": "code",
      "metadata": {
        "id": "hwSzeony4W-5",
        "outputId": "ab050ace-976b-46f9-93bc-f41bc0ed4fe0",
        "colab": {
          "base_uri": "https://localhost:8080/"
        }
      },
      "source": [
        "print(y)"
      ],
      "execution_count": 5,
      "outputs": [
        {
          "output_type": "stream",
          "text": [
            "[-3.96484734  1.88181819  2.91404941  3.33348459 -1.88883152]\n"
          ],
          "name": "stdout"
        }
      ]
    },
    {
      "cell_type": "code",
      "metadata": {
        "id": "OLuNnyQm4cL3"
      },
      "source": [
        "# We will build two layerd neural network.\n",
        "# Reset tensorflow graph\n",
        "\n",
        "tf.compat.v1.reset_default_graph()"
      ],
      "execution_count": 6,
      "outputs": []
    },
    {
      "cell_type": "code",
      "metadata": {
        "id": "sOelFErz5BCc"
      },
      "source": [
        "# Parameters\n",
        "numHidden = 64\n",
        "numClasses = 1\n",
        "numFeature = 1"
      ],
      "execution_count": 7,
      "outputs": []
    },
    {
      "cell_type": "code",
      "metadata": {
        "id": "P9_wwiAc6Ib8"
      },
      "source": [
        "# Define placeholder for X and Y\n",
        "tf.compat.v1.disable_eager_execution()\n",
        "x = tf.compat.v1.placeholder(tf.float32, shape=[None, numFeature])\n",
        "y = tf.compat.v1.placeholder(tf.float32, shape=[None, numClasses])"
      ],
      "execution_count": 8,
      "outputs": []
    },
    {
      "cell_type": "code",
      "metadata": {
        "id": "7E_DOTMP6MJE"
      },
      "source": [
        "# Initialize model parameters\n",
        "w1 = tf.Variable(tf.random_uniform([numFeature, numHidden]))\n",
        "b1 = tf.Variable(tf.random_uniform([numHidden]))\n",
        "\n",
        "w2 = tf.Variable(tf.random_uniform([numHidden, numClasses]))\n",
        "b2 = tf.Variable(tf.random_uniform([numClasses]))"
      ],
      "execution_count": 9,
      "outputs": []
    },
    {
      "cell_type": "code",
      "metadata": {
        "id": "HuVtv0Ad7kTT"
      },
      "source": [
        "# Feedforward operation\n",
        "\n",
        "#layer 1\n",
        "z1 = tf.matmul(x, w1) + b1\n",
        "a1 = tf.nn.tanh(z1)\n",
        "\n",
        "#output layer\n",
        "z2 = tf.matmul(a1, w2) + b2\n",
        "Yhat = tf.nn.tanh(z2)"
      ],
      "execution_count": 10,
      "outputs": []
    },
    {
      "cell_type": "code",
      "metadata": {
        "id": "cCvvwwn57nBx"
      },
      "source": [
        "#Loss function\n",
        "\n",
        "lossFunction = tf.reduce_mean(tf.square(Yhat - y))"
      ],
      "execution_count": 12,
      "outputs": []
    },
    {
      "cell_type": "code",
      "metadata": {
        "id": "ezblCA9Z7prj"
      },
      "source": [
        "# Optimizer\n",
        "optimizer = tf.train.AdamOptimizer(1e-2).minimize(lossFunction)"
      ],
      "execution_count": 13,
      "outputs": []
    },
    {
      "cell_type": "code",
      "metadata": {
        "id": "gAmJuloE7sHa"
      },
      "source": [
        "# Initialize tensorflow variable\n",
        "init = tf.global_variables_initializer()"
      ],
      "execution_count": 14,
      "outputs": []
    },
    {
      "cell_type": "code",
      "metadata": {
        "id": "iGuwhYcw7uSZ"
      },
      "source": [
        "# Neural Net with Reptile\n",
        "\n",
        "# Initialize variables\n",
        "numEpochs = 100\n",
        "numSamples = 50  \n",
        "numTasks = 2\n",
        "numIterations = 10\n",
        "miniBatch = 10"
      ],
      "execution_count": 15,
      "outputs": []
    },
    {
      "cell_type": "code",
      "metadata": {
        "id": "dfQJvXam7ypg",
        "outputId": "4f693d09-59c9-4a8c-8c93-228f79d1a394",
        "colab": {
          "base_uri": "https://localhost:8080/"
        }
      },
      "source": [
        "#start the tensorflow session\n",
        "with tf.Session() as s:\n",
        "    \n",
        "    s.run(init)\n",
        "    \n",
        "    for e in range(numEpochs):\n",
        "        for task in range(numTasks):\n",
        "\n",
        "            #get the initial parameter\n",
        "            old_w1, old_b1, old_w2, old_b2 = s.run([w1, b1, w2, b2,])\n",
        "\n",
        "            #sample x and y\n",
        "            x_sample, y_sample = generate_sample_points(numSamples)\n",
        "\n",
        "\n",
        "            # Perform optimization on the task\n",
        "            for k in range(numIterations):\n",
        "                for i in range(0, numSamples, miniBatch):\n",
        "                    x_minibatch = x_sample[i:i+miniBatch]\n",
        "                    y_minibatch = y_sample[i:i+miniBatch]\n",
        "\n",
        "                    train = s.run(optimizer, feed_dict={x: x_minibatch.reshape(miniBatch,1), \n",
        "                                                           y: y_minibatch.reshape(miniBatch,1)})\n",
        "\n",
        "            #get the updated model parameter\n",
        "            new_w1, new_b1, new_w2, new_b2 = s.run([w1, b1, w2, b2])\n",
        "\n",
        "            # Perform meta update\n",
        "            epsilon = 0.1\n",
        "\n",
        "            updated_w1 = old_w1 + epsilon * (new_w1 - old_w1) \n",
        "            updated_b1 = old_b1 + epsilon * (new_b1 - old_b1) \n",
        "\n",
        "            updated_w2 = old_w2 + epsilon * (new_w2 - old_w2) \n",
        "            updated_b2 = old_b2 + epsilon * (new_b2 - old_b2) \n",
        "\n",
        "\n",
        "            #update the model parameter with new parameters\n",
        "            w1.load(updated_w1, s)\n",
        "            b1.load(updated_b1, s)\n",
        "\n",
        "            w2.load(updated_w2, s)\n",
        "            b2.load(updated_b2, s)\n",
        "\n",
        "        if e%10 == 0:\n",
        "            loss = s.run(lossFunction, feed_dict={x: x_sample.reshape(numSamples,1), y: y_sample.reshape(numSamples,1)})\n",
        "\n",
        "            print(\"Epoch {}: Loss {}\\n\".format(e,loss))             \n",
        "            print('Updated Model Parameter Theta\\n')\n",
        "            print('Sampling Next Batch of Tasks \\n')\n",
        "            print('---------------------------------\\n')\n"
      ],
      "execution_count": 18,
      "outputs": [
        {
          "output_type": "stream",
          "text": [
            "WARNING:tensorflow:From <ipython-input-18-97d27e99455e>:39: Variable.load (from tensorflow.python.ops.variables) is deprecated and will be removed in a future version.\n",
            "Instructions for updating:\n",
            "Prefer Variable.assign which has equivalent behavior in 2.X.\n",
            "Epoch 0: Loss 2.201439619064331\n",
            "\n",
            "Updated Model Parameter Theta\n",
            "\n",
            "Sampling Next Batch of Tasks \n",
            "\n",
            "---------------------------------\n",
            "\n",
            "Epoch 10: Loss 1.1509068012237549\n",
            "\n",
            "Updated Model Parameter Theta\n",
            "\n",
            "Sampling Next Batch of Tasks \n",
            "\n",
            "---------------------------------\n",
            "\n",
            "Epoch 20: Loss 6.679961681365967\n",
            "\n",
            "Updated Model Parameter Theta\n",
            "\n",
            "Sampling Next Batch of Tasks \n",
            "\n",
            "---------------------------------\n",
            "\n",
            "Epoch 30: Loss 5.142261981964111\n",
            "\n",
            "Updated Model Parameter Theta\n",
            "\n",
            "Sampling Next Batch of Tasks \n",
            "\n",
            "---------------------------------\n",
            "\n",
            "Epoch 40: Loss 3.879302978515625\n",
            "\n",
            "Updated Model Parameter Theta\n",
            "\n",
            "Sampling Next Batch of Tasks \n",
            "\n",
            "---------------------------------\n",
            "\n",
            "Epoch 50: Loss 0.950084388256073\n",
            "\n",
            "Updated Model Parameter Theta\n",
            "\n",
            "Sampling Next Batch of Tasks \n",
            "\n",
            "---------------------------------\n",
            "\n",
            "Epoch 60: Loss 1.839415431022644\n",
            "\n",
            "Updated Model Parameter Theta\n",
            "\n",
            "Sampling Next Batch of Tasks \n",
            "\n",
            "---------------------------------\n",
            "\n",
            "Epoch 70: Loss 8.90597152709961\n",
            "\n",
            "Updated Model Parameter Theta\n",
            "\n",
            "Sampling Next Batch of Tasks \n",
            "\n",
            "---------------------------------\n",
            "\n",
            "Epoch 80: Loss 1.135343074798584\n",
            "\n",
            "Updated Model Parameter Theta\n",
            "\n",
            "Sampling Next Batch of Tasks \n",
            "\n",
            "---------------------------------\n",
            "\n",
            "Epoch 90: Loss 2.1779024600982666\n",
            "\n",
            "Updated Model Parameter Theta\n",
            "\n",
            "Sampling Next Batch of Tasks \n",
            "\n",
            "---------------------------------\n",
            "\n"
          ],
          "name": "stdout"
        }
      ]
    },
    {
      "cell_type": "code",
      "metadata": {
        "id": "NnVuZl9A73wN"
      },
      "source": [
        ""
      ],
      "execution_count": null,
      "outputs": []
    }
  ]
}