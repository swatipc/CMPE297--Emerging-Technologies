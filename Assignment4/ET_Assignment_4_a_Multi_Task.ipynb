{
  "nbformat": 4,
  "nbformat_minor": 0,
  "metadata": {
    "colab": {
      "name": "ET_Assignment_4_a_Multi_Task",
      "provenance": [],
      "collapsed_sections": []
    },
    "kernelspec": {
      "display_name": "Python 3",
      "language": "python",
      "name": "python3"
    },
    "language_info": {
      "codemirror_mode": {
        "name": "ipython",
        "version": 3
      },
      "file_extension": ".py",
      "mimetype": "text/x-python",
      "name": "python",
      "nbconvert_exporter": "python",
      "pygments_lexer": "ipython3",
      "version": "3.7.0"
    },
    "accelerator": "GPU"
  },
  "cells": [
    {
      "cell_type": "markdown",
      "metadata": {
        "id": "vYY_1BQA5tQZ"
      },
      "source": [
        "**Multi-task and Multi-Modal Learning**"
      ]
    },
    {
      "cell_type": "code",
      "metadata": {
        "id": "_MOQxuNpu2dk",
        "outputId": "cf52f8e3-baf6-462c-e38d-ba858d2c6aef",
        "colab": {
          "base_uri": "https://localhost:8080/"
        }
      },
      "source": [
        "# Install Autokeras and keras tuner\n",
        "\n",
        "!pip install autokeras\n",
        "!pip install git+https://github.com/keras-team/keras-tuner.git@1.0.2rc3\n"
      ],
      "execution_count": null,
      "outputs": [
        {
          "output_type": "stream",
          "text": [
                   ],
          "name": "stdout"
        }
      ]
    },
    {
      "cell_type": "code",
      "metadata": {
        "id": "XTy9ulCO7bGU"
      },
      "source": [
        "# Import required libraries\n",
        "import numpy as np\n",
        "import autokeras as ak"
      ],
      "execution_count": null,
      "outputs": []
    },
    {
      "cell_type": "code",
      "metadata": {
        "id": "vvfF9uUOu2dp"
      },
      "source": [
        "# Data generation\n",
        "\n",
        "num_Instances = 150\n",
        "imageData = np.random.rand(num_Instances, 32, 32, 3).astype(np.float32)\n",
        "structuredData = np.random.rand(num_Instances, 20).astype(np.float32)\n"
      ],
      "execution_count": null,
      "outputs": []
    },
    {
      "cell_type": "code",
      "metadata": {
        "id": "vqrSkiuDu2ds"
      },
      "source": [
        "# Generate targets for regression\n",
        "regressionTarget = np.random.rand(num_Instances, 1).astype(np.float32)\n",
        "# Generate  labels of five classes for classification\n",
        "classificationTarget = np.random.randint(5, size=num_Instances)\n"
      ],
      "execution_count": null,
      "outputs": []
    },
    {
      "cell_type": "code",
      "metadata": {
        "id": "4_XHBKBOu2dv"
      },
      "source": [
        "# Build the model using AutoModel\n",
        "\n",
        "model = ak.AutoModel(\n",
        "    inputs=[ak.ImageInput(), ak.StructuredDataInput()],\n",
        "    outputs=[\n",
        "        ak.RegressionHead(metrics=['mae']),\n",
        "        ak.ClassificationHead(loss='categorical_crossentropy', metrics=['accuracy'])\n",
        "    ],\n",
        "    overwrite=True,\n",
        "    max_trials=2)\n",
        "\n"
      ],
      "execution_count": null,
      "outputs": []
    },
    {
      "cell_type": "code",
      "metadata": {
        "id": "81Z_2l-4u2dz",
        "outputId": "46e9e3f5-1fc5-4d3d-a551-93969940cde7",
        "colab": {
          "base_uri": "https://localhost:8080/"
        }
      },
      "source": [
        "# Train and validate the model\n",
        "model.fit(\n",
        "    [imageData, structuredData],\n",
        "    [regressionTarget, classificationTarget],\n",
        "    validation_split=0.15,\n",
        "    epochs=4)\n"
      ],
      "execution_count": null,
      "outputs": [
        {
          "output_type": "stream",
          "text": [
            "Trial 2 Complete [00h 00m 15s]\n",
            "val_loss: 1.8149256706237793\n",
            "\n",
            "Best val_loss So Far: 1.8149256706237793\n",
            "Total elapsed time: 00h 00m 30s\n",
            "INFO:tensorflow:Oracle triggered exit\n",
            "Epoch 1/4\n",
            "5/5 [==============================] - 0s 72ms/step - loss: 14.1901 - regression_head_1_loss: 10.7715 - classification_head_1_loss: 3.4186 - regression_head_1_mae: 2.6160 - classification_head_1_accuracy: 0.2600\n",
            "Epoch 2/4\n",
            "5/5 [==============================] - 0s 33ms/step - loss: 20.2691 - regression_head_1_loss: 16.8160 - classification_head_1_loss: 3.4531 - regression_head_1_mae: 3.0611 - classification_head_1_accuracy: 0.2467\n",
            "Epoch 3/4\n",
            "5/5 [==============================] - 0s 34ms/step - loss: 22.2506 - regression_head_1_loss: 18.8216 - classification_head_1_loss: 3.4290 - regression_head_1_mae: 3.3077 - classification_head_1_accuracy: 0.2333\n",
            "Epoch 4/4\n",
            "5/5 [==============================] - 0s 33ms/step - loss: 16.7330 - regression_head_1_loss: 13.6586 - classification_head_1_loss: 3.0744 - regression_head_1_mae: 2.8863 - classification_head_1_accuracy: 0.2467\n"
          ],
          "name": "stdout"
        }
      ]
    },
    
    {
      "cell_type": "code",
      "metadata": {
        "id": "i1OvYYXfu2d8",
        "outputId": "53c167b3-8d3d-49eb-c525-dc80c3cc00e7",
        "colab": {
          "base_uri": "https://localhost:8080/",
          "height": 270
        }
      },
      "source": [
        "# Customize the search space\n",
        "\n",
        "input_node_1 = ak.ImageInput()\n",
        "output_node = ak.Normalization()(input_node1)\n",
        "output_node = ak.ImageAugmentation()(output_node)\n",
        "output_node_1 = ak.ConvBlock()(output_node)\n",
        "output_node_2 = ak.ResNetBlock(version='v2')(output_node)\n",
        "output_node_1 = ak.Merge()([output_node_1, output_node_2])\n",
        "\n",
        "input_node_2 = ak.StructuredDataInput()\n",
        "output_node = ak.CategoricalToNumerical()(input_node_2)\n",
        "output_node_2 = ak.DenseBlock()(output_node)\n",
        "\n",
        "output_node = ak.Merge()([output_node1, output_node_2])\n",
        "output_node_1 = ak.ClassificationHead()(output_node)\n",
        "output_node_2 = ak.RegressionHead()(output_node)\n",
        "\n",
        "auto_model = ak.AutoModel(\n",
        "    inputs=[input_node1, input_node_2], \n",
        "    outputs=[output_node1, output_node_2],\n",
        "    overwrite=True,\n",
        "    max_trials=2)\n",
        "\n",
        "image_Data = np.random.rand(num_instances, 32, 32, 3).astype(np.float32)\n",
        "structured_Data = np.random.rand(num_instances, 20).astype(np.float32)\n",
        "regression_Target = np.random.rand(num_instances, 1).astype(np.float32)\n",
        "classification_Target = np.random.randint(5, size=num_instances)\n",
        "\n",
        "auto_model.fit(\n",
        "    [image_Data, structured_Data],\n",
        "    [classification_Target, regression_Target],\n",
        "    batch_size=32,\n",
        "    epochs=3)\n"
      ],
      "execution_count": null,
      "outputs": [
        {
          "output_type": "stream",
          "text": [
            "Trial 2 Complete [00h 00m 33s]\n",
            "val_loss: 1.5399234294891357\n",
            "\n",
            "Best val_loss So Far: 1.5399234294891357\n",
            "Total elapsed time: 00h 01m 08s\n",
            "INFO:tensorflow:Oracle triggered exit\n",
            "Epoch 1/3\n",
            "4/4 [==============================] - 5s 1s/step - loss: 3.5350 - classification_head_1_loss: 2.0213 - regression_head_1_loss: 1.5138 - classification_head_1_accuracy: 0.1300 - regression_head_1_mean_squared_error: 1.5138\n",
            "Epoch 2/3\n",
            "4/4 [==============================] - 5s 1s/step - loss: 3.9944 - classification_head_1_loss: 1.8507 - regression_head_1_loss: 2.1437 - classification_head_1_accuracy: 0.3200 - regression_head_1_mean_squared_error: 2.1437\n",
            "Epoch 3/3\n",
            "4/4 [==============================] - 5s 1s/step - loss: 3.3795 - classification_head_1_loss: 1.8187 - regression_head_1_loss: 1.5608 - classification_head_1_accuracy: 0.2800 - regression_head_1_mean_squared_error: 1.5608\n",
            "INFO:tensorflow:Assets written to: ./auto_model/best_model/assets\n"
          ],
          "name": "stdout"
        }
      ]
    }
  ]
}
