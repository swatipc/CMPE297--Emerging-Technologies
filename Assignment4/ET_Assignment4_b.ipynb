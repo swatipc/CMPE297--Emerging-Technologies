{
  "nbformat": 4,
  "nbformat_minor": 0,
  "metadata": {
    "colab": {
      "name": "ET_Assignment4_b.ipynb",
      "provenance": []
    },
    "kernelspec": {
      "name": "python3",
      "display_name": "Python 3"
    },
    "accelerator": "GPU"
  },
  "cells": [
    {
      "cell_type": "markdown",
      "metadata": {
        "id": "JTQSLtnel0mp"
      },
      "source": [
        "**Face Recognition using Siamese Networks with Meta Learning** \n",
        "\n",
        "The goal of this face recognition model is to understand whether the given two face images are same or different.\n",
        "\n",
        "Dataset used: [AT&T Database of Faces](https://www.kaggle.com/kasikrit/att-database-of-faces)"
      ]
    },
    {
      "cell_type": "code",
      "metadata": {
        "id": "BbshcxUBHe2q",
        "outputId": "d25c5719-7b8e-46b6-9428-cfaaa31a70c2",
        "colab": {
          "base_uri": "https://localhost:8080/"
        }
      },
      "source": [
        "# Import required libraries\n",
        "\n",
        "import re\n",
        "import keras\n",
        "import numpy as np\n",
        "from PIL import Image\n",
        "from keras import backend as K\n",
        "from sklearn.model_selection import train_test_split\n",
        "from keras.layers import Activation\n",
        "from keras.layers import Input, Lambda, Dense, Dropout, Convolution2D, MaxPooling2D, Flatten\n",
        "from keras.models import Sequential, Model\n",
        "from keras.optimizers import RMSprop\n",
        "from google.colab import drive\n",
        "drive.mount('/content/drive/', force_remount=True)"
      ],
      "execution_count": 8,
      "outputs": [
        {
          "output_type": "stream",
          "text": [
            "Mounted at /content/drive/\n"
          ],
          "name": "stdout"
        }
      ]
    },
    {
      "cell_type": "code",
      "metadata": {
        "id": "3EOdfP44Hwzk"
      },
      "source": [
        "#Function to read the images from dataset and convert them to a Numpy array\n",
        "\n",
        "def readImage(fileName, byteOrder='>'):\n",
        "    \n",
        "    # Read the image\n",
        "    with open(fileName, 'rb') as f:\n",
        "        buffer = f.read()\n",
        "    \n",
        "    # Extract header, width, height and maxval of the image\n",
        "    header, width, height, maxval = re.search(\n",
        "        b\"(^P5\\s(?:\\s*#.*[\\r\\n])*\"\n",
        "        b\"(\\d+)\\s(?:\\s*#.*[\\r\\n])*\"\n",
        "        b\"(\\d+)\\s(?:\\s*#.*[\\r\\n])*\"\n",
        "        b\"(\\d+)\\s(?:\\s*#.*[\\r\\n]\\s)*)\", buffer).groups()\n",
        "    # Convert the image to a Numpy array\n",
        "    img_to_nmpy = np.frombuffer(buffer,\n",
        "                            dtype='u1' if int(maxval) < 256 else byteOrder+'u2',\n",
        "                            count=int(width)*int(height),\n",
        "                            offset=len(header)\n",
        "                            ).reshape((int(height), int(width)))\n",
        "    return img_to_nmpy"
      ],
      "execution_count": 9,
      "outputs": []
    },
    {
      "cell_type": "code",
      "metadata": {
        "id": "qXkYy1y7HzZ1",
        "outputId": "0b7beb81-a4e9-4484-b096-e9e5f78dc21e",
        "colab": {
          "base_uri": "https://localhost:8080/",
          "height": 129
        }
      },
      "source": [
        "#Check the sample image\n",
        "Image.open(\"/content/drive/My Drive/Data/archive/s1/1.pgm\")"
      ],
      "execution_count": 10,
      "outputs": [
        {
          "output_type": "execute_result",
          "data": {
            "image/png": "[encoded data removed]",
            "text/plain": [
              "<PIL.PpmImagePlugin.PpmImageFile image mode=L size=92x112 at 0x7F44FF1A4CF8>"
            ]
          },
          "metadata": {
            "tags": []
          },
          "execution_count": 10
        }
      ]
    },
    {
      "cell_type": "code",
      "metadata": {
        "id": "kzbmFQqpIQef"
      },
      "source": [
        "# Using readImage function read the image from dataset and convert it to a Numpy array\n",
        "\n",
        "img = readImage('/content/drive/My Drive/Data/archive/s1/1.pgm')"
      ],
      "execution_count": 11,
      "outputs": []
    },
    {
      "cell_type": "code",
      "metadata": {
        "id": "hZWJTJOYIX1q",
        "outputId": "e01ca2ae-4cae-40ff-eb13-628c66b5255b",
        "colab": {
          "base_uri": "https://localhost:8080/"
        }
      },
      "source": [
        "# Check the shape of an retrieved image\n",
        "img.shape"
      ],
      "execution_count": 12,
      "outputs": [
        {
          "output_type": "execute_result",
          "data": {
            "text/plain": [
              "(112, 92)"
            ]
          },
          "metadata": {
            "tags": []
          },
          "execution_count": 12
        }
      ]
    },
    {
      "cell_type": "code",
      "metadata": {
        "id": "YFFzJarfIa9F"
      },
      "source": [
        "# Generate the data. \n",
        "\n",
        "size = 2\n",
        "totalSampleSize = 10000\n",
        "\n",
        "\n",
        "def getData(size, totalSampleSize):\n",
        "    img = readImage('/content/drive/My Drive/Data/archive/s' + str(1) + '/' + str(1) + '.pgm', 'rw+')\n",
        "    img = img[::size, ::size]\n",
        "    dim1 = img.shape[0]\n",
        "    dim2 = img.shape[1]\n",
        "    count = 0\n",
        "\n",
        "    #initialize the numpy array\n",
        "    xGenuinePair = np.zeros([totalSampleSize, 2, 1, dim1, dim2]) \n",
        "    yGenuine = np.zeros([totalSampleSize, 1])\n",
        "    \n",
        "    for i in range(30):\n",
        "        for j in range(int(totalSampleSize/30)):\n",
        "            ind_1 = 0\n",
        "            ind_2 = 0\n",
        "            while ind_1 == ind_2:\n",
        "                ind_1 = np.random.randint(10)\n",
        "                ind_2 = np.random.randint(10)\n",
        "            \n",
        "            # Read the images\n",
        "            img_1 = readImage('/content/drive/My Drive/Data/archive/s' + str(i+1) + '/' + str(ind_1 + 1) + '.pgm', 'rw+')\n",
        "            img_2 = readImage('/content/drive/My Drive/Data/archive/s' + str(i+1) + '/' + str(ind_2 + 1) + '.pgm', 'rw+')\n",
        "            \n",
        "            # Resize the images\n",
        "            img_1 = img_1[::size, ::size]\n",
        "            img_2 = img_2[::size, ::size]\n",
        "            \n",
        "            # Store the images to the numpy array\n",
        "            xGenuinePair[count, 0, 0, :, :] = img_1\n",
        "            xGenuinePair[count, 1, 0, :, :] = img_2\n",
        "            \n",
        "            # Assign label 1 to the genuine images\n",
        "            yGenuine[count] = 1\n",
        "            count += 1\n",
        "\n",
        "    # Repeat the same process fro imposite images\n",
        "    count = 0\n",
        "    xImpositePair = np.zeros([totalSampleSize, 2, 1, dim1, dim2])\n",
        "    yImposite = np.zeros([totalSampleSize, 1])\n",
        "    \n",
        "    for i in range(int(totalSampleSize/10)):\n",
        "        for j in range(10):\n",
        "            while True:\n",
        "                ind_1 = np.random.randint(40)\n",
        "                ind_2 = np.random.randint(40)\n",
        "                if ind_1 != ind_2:\n",
        "                    break\n",
        "                    \n",
        "            img_1 = readImage('/content/drive/My Drive/Data/archive/s' + str(ind_1+1) + '/' + str(j + 1) + '.pgm', 'rw+')\n",
        "            img_2 = readImage('/content/drive/My Drive/Data/archive/s' + str(ind_2+1) + '/' + str(j + 1) + '.pgm', 'rw+')\n",
        "\n",
        "            img_1 = img_1[::size, ::size]\n",
        "            img_2 = img_2[::size, ::size]\n",
        "\n",
        "            xImpositePair[count, 0, 0, :, :] = img_1\n",
        "            xImpositePair[count, 1, 0, :, :] = img_2\n",
        "\n",
        "            # Assign label 0 to imposite pair of images\n",
        "            yImposite[count] = 0\n",
        "            count += 1\n",
        "            \n",
        "    # Concatenate the genuine pairs and imposite pair to get the whole data\n",
        "    X = np.concatenate([xGenuinePair, xImpositePair], axis=0)/255\n",
        "    Y = np.concatenate([yGenuine, yImposite], axis=0)\n",
        "\n",
        "    return X, Y"
      ],
      "execution_count": 17,
      "outputs": []
    },
    {
      "cell_type": "code",
      "metadata": {
        "id": "aiW9GcpxIh6i"
      },
      "source": [
        "# Generate the data and store in X and Y variables\n",
        "\n",
        "X, Y = getData(size, totalSampleSize)"
      ],
      "execution_count": 18,
      "outputs": []
    },
    {
      "cell_type": "code",
      "metadata": {
        "id": "_Jm7OvoCIkcY",
        "outputId": "0855e519-b303-4231-cc05-21c46a67d8f0",
        "colab": {
          "base_uri": "https://localhost:8080/"
        }
      },
      "source": [
        "# Check the shape of input images\n",
        "X.shape"
      ],
      "execution_count": 19,
      "outputs": [
        {
          "output_type": "execute_result",
          "data": {
            "text/plain": [
              "(20000, 2, 1, 56, 46)"
            ]
          },
          "metadata": {
            "tags": []
          },
          "execution_count": 19
        }
      ]
    },
    {
      "cell_type": "code",
      "metadata": {
        "id": "XuoFyiphI53Y",
        "outputId": "17ae1abe-a1e0-4fa9-d509-e1b951cab72f",
        "colab": {
          "base_uri": "https://localhost:8080/"
        }
      },
      "source": [
        "# Check the shape of Y\n",
        "Y.shape"
      ],
      "execution_count": 20,
      "outputs": [
        {
          "output_type": "execute_result",
          "data": {
            "text/plain": [
              "(20000, 1)"
            ]
          },
          "metadata": {
            "tags": []
          },
          "execution_count": 20
        }
      ]
    },
    {
      "cell_type": "code",
      "metadata": {
        "id": "Xm8xjZzMI8be"
      },
      "source": [
        "# Split the data to train and test\n",
        "\n",
        "xTrain, xTest, yTrain, yTest = train_test_split(X, Y, test_size=.30)"
      ],
      "execution_count": 21,
      "outputs": []
    },
    {
      "cell_type": "code",
      "metadata": {
        "id": "sSxc6uA1I9DK"
      },
      "source": [
        "# Build the Siamese Network with 2 layer Convolutional network as a base network which would be used for feature extraction from images\n",
        "\n",
        "def buildBaseNetwork(inputShape):\n",
        "    \n",
        "    seq = Sequential()\n",
        "    nb_filter = [6, 12]\n",
        "    kernelSize = 3\n",
        "    \n",
        "    # Conv layer 1\n",
        "    seq.add(Convolution2D(nb_filter[0], kernelSize, kernelSize, input_shape=inputShape,\n",
        "                          padding='valid', data_format='channels_first'))\n",
        "    seq.add(Activation('relu'))\n",
        "    seq.add(MaxPooling2D(pool_size=(2, 2)))  \n",
        "    seq.add(Dropout(.25))\n",
        "    \n",
        "    # Conv layer 2\n",
        "    seq.add(Convolution2D(nb_filter[1], kernelSize, kernelSize, padding='valid', data_format='channels_first'))\n",
        "    seq.add(Activation('relu'))\n",
        "    seq.add(MaxPooling2D(pool_size=(2, 2), data_format='channels_first')) \n",
        "    seq.add(Dropout(.25))\n",
        "\n",
        "    # Flatten the layers\n",
        "    seq.add(Flatten())\n",
        "    seq.add(Dense(128, activation='relu'))\n",
        "    seq.add(Dropout(0.1))\n",
        "    seq.add(Dense(50, activation='relu'))\n",
        "    return seq"
      ],
      "execution_count": 22,
      "outputs": []
    },
    {
      "cell_type": "code",
      "metadata": {
        "id": "j_CTp5rYJCAV"
      },
      "source": [
        "# Image pair to feed to the base network to get the feature vectors\n",
        "\n",
        "input_Dim = xTrain.shape[2:]\n",
        "img_A = Input(shape=input_Dim)\n",
        "img_B = Input(shape=input_Dim)"
      ],
      "execution_count": 24,
      "outputs": []
    },
    {
      "cell_type": "code",
      "metadata": {
        "id": "9eUteld5JEeL"
      },
      "source": [
        "base_network = buildBaseNetwork(input_Dim)\n",
        "feat_vecs_A = base_network(img_A)\n",
        "feat_vecs_B = base_network(img_B)"
      ],
      "execution_count": 25,
      "outputs": []
    },
    {
      "cell_type": "code",
      "metadata": {
        "id": "0x526GebJHW8"
      },
      "source": [
        "# Fuunctions to determine the distancce between the feature vectors\n",
        "\n",
        "def euclideanDistance(vects):\n",
        "    x, y = vects\n",
        "    dist = K.sqrt(K.sum(K.square(x - y), axis=1, keepdims=True))\n",
        "    return dist\n",
        "\n",
        "\n",
        "def euclDistOutputShape(shapes):\n",
        "    shape1, shape2 = shapes\n",
        "    eu_dist_op_shape = (shape1[0], 1)\n",
        "    return eu_dist_op_shape"
      ],
      "execution_count": 26,
      "outputs": []
    },
    {
      "cell_type": "code",
      "metadata": {
        "id": "llu7XeqqJKQt"
      },
      "source": [
        "distance = Lambda(euclideanDistance, output_shape=euclDistOutputShape)([feat_vecs_A, feat_vecs_B])"
      ],
      "execution_count": 28,
      "outputs": []
    },
    {
      "cell_type": "code",
      "metadata": {
        "id": "dTuz0c-fJLE2"
      },
      "source": [
        "# Define number of epochs and optimization function to be used\n",
        "epochs = 30\n",
        "rms = RMSprop()"
      ],
      "execution_count": 41,
      "outputs": []
    },
    {
      "cell_type": "code",
      "metadata": {
        "id": "fwav2-PVJOnn"
      },
      "source": [
        "# Define the model\n",
        "model = Model([img_A, img_B],distance)"
      ],
      "execution_count": 42,
      "outputs": []
    },
    {
      "cell_type": "code",
      "metadata": {
        "id": "4spbYeqbJQ0l"
      },
      "source": [
        "# Loss function\n",
        "\n",
        "def contrastiveLoss(yTrue, yPred):\n",
        "    margin = 1\n",
        "    loss = K.mean(yTrue * K.square(yPred) + (1 - yTrue) * K.square(K.maximum(margin - yPred, 0)))\n",
        "    return loss"
      ],
      "execution_count": 43,
      "outputs": []
    },
    {
      "cell_type": "code",
      "metadata": {
        "id": "utt-OQCbJTXj"
      },
      "source": [
        "# Compile the model\n",
        "\n",
        "model.compile(loss=contrastiveLoss, optimizer=rms)"
      ],
      "execution_count": 44,
      "outputs": []
    },
    {
      "cell_type": "code",
      "metadata": {
        "id": "6hu4sE3JJTmG"
      },
      "source": [
        "img_1 = xTrain[:, 0]\n",
        "img_2 = xTrain[:, 1]"
      ],
      "execution_count": 45,
      "outputs": []
    },
    {
      "cell_type": "code",
      "metadata": {
        "id": "LrkiWUcSJXYy",
        "outputId": "d8b4b826-af9e-42a2-905d-f3f9767e0ee3",
        "colab": {
          "base_uri": "https://localhost:8080/"
        }
      },
      "source": [
        "# Train the model\n",
        "\n",
        "model.fit([img_1, img_2], yTrain, validation_split=.25,\n",
        "          batch_size=128, verbose=2, epochs=epochs)"
      ],
      "execution_count": 46,
      "outputs": [
        {
          "output_type": "stream",
          "text": [
            "Epoch 1/30\n",
            "83/83 - 1s - loss: 0.1614 - val_loss: 0.1278\n",
            "Epoch 2/30\n",
            "83/83 - 0s - loss: 0.1583 - val_loss: 0.1281\n",
            "Epoch 3/30\n",
            "83/83 - 0s - loss: 0.1522 - val_loss: 0.1159\n",
            "Epoch 4/30\n",
            "83/83 - 0s - loss: 0.1510 - val_loss: 0.1244\n",
            "Epoch 5/30\n",
            "83/83 - 0s - loss: 0.1472 - val_loss: 0.1497\n",
            "Epoch 6/30\n",
            "83/83 - 1s - loss: 0.1448 - val_loss: 0.1243\n",
            "Epoch 7/30\n",
            "83/83 - 1s - loss: 0.1421 - val_loss: 0.1060\n",
            "Epoch 8/30\n",
            "83/83 - 0s - loss: 0.1405 - val_loss: 0.1154\n",
            "Epoch 9/30\n",
            "83/83 - 0s - loss: 0.1368 - val_loss: 0.1248\n",
            "Epoch 10/30\n",
            "83/83 - 0s - loss: 0.1349 - val_loss: 0.1146\n",
            "Epoch 11/30\n",
            "83/83 - 0s - loss: 0.1335 - val_loss: 0.1043\n",
            "Epoch 12/30\n",
            "83/83 - 1s - loss: 0.1324 - val_loss: 0.1053\n",
            "Epoch 13/30\n",
            "83/83 - 1s - loss: 0.1310 - val_loss: 0.0961\n",
            "Epoch 14/30\n",
            "83/83 - 0s - loss: 0.1308 - val_loss: 0.0950\n",
            "Epoch 15/30\n",
            "83/83 - 0s - loss: 0.1296 - val_loss: 0.0977\n",
            "Epoch 16/30\n",
            "83/83 - 0s - loss: 0.1288 - val_loss: 0.0968\n",
            "Epoch 17/30\n",
            "83/83 - 0s - loss: 0.1272 - val_loss: 0.0885\n",
            "Epoch 18/30\n",
            "83/83 - 0s - loss: 0.1256 - val_loss: 0.0974\n",
            "Epoch 19/30\n",
            "83/83 - 0s - loss: 0.1242 - val_loss: 0.0920\n",
            "Epoch 20/30\n",
            "83/83 - 0s - loss: 0.1259 - val_loss: 0.0987\n",
            "Epoch 21/30\n",
            "83/83 - 0s - loss: 0.1214 - val_loss: 0.1042\n",
            "Epoch 22/30\n",
            "83/83 - 0s - loss: 0.1216 - val_loss: 0.0967\n",
            "Epoch 23/30\n",
            "83/83 - 1s - loss: 0.1206 - val_loss: 0.0886\n",
            "Epoch 24/30\n",
            "83/83 - 0s - loss: 0.1215 - val_loss: 0.0847\n",
            "Epoch 25/30\n",
            "83/83 - 0s - loss: 0.1188 - val_loss: 0.1014\n",
            "Epoch 26/30\n",
            "83/83 - 0s - loss: 0.1186 - val_loss: 0.0844\n",
            "Epoch 27/30\n",
            "83/83 - 0s - loss: 0.1184 - val_loss: 0.0855\n",
            "Epoch 28/30\n",
            "83/83 - 0s - loss: 0.1161 - val_loss: 0.0880\n",
            "Epoch 29/30\n",
            "83/83 - 0s - loss: 0.1171 - val_loss: 0.0904\n",
            "Epoch 30/30\n",
            "83/83 - 0s - loss: 0.1146 - val_loss: 0.0947\n"
          ],
          "name": "stdout"
        },
        {
          "output_type": "execute_result",
          "data": {
            "text/plain": [
              "<tensorflow.python.keras.callbacks.History at 0x7f44a215bef0>"
            ]
          },
          "metadata": {
            "tags": []
          },
          "execution_count": 46
        }
      ]
    },
    {
      "cell_type": "code",
      "metadata": {
        "id": "3Kp5lxtI6yLd"
      },
      "source": [
        "# Make predictions\n",
        "\n",
        "pred = model.predict([xTest[:, 0], xTest[:, 1]])"
      ],
      "execution_count": 47,
      "outputs": []
    },
    {
      "cell_type": "code",
      "metadata": {
        "id": "STB5pd3dy0Nu"
      },
      "source": [
        "# Function to determine accuracy of model\n",
        "def computeAccuracy(predictions, labels):\n",
        "    accuracy = labels[predictions.ravel() < 0.5].mean()\n",
        "    return accuracy"
      ],
      "execution_count": 48,
      "outputs": []
    },
    {
      "cell_type": "code",
      "metadata": {
        "id": "_4qoZ8uazDNU",
        "outputId": "7f27d914-0c39-4e8f-99dc-c6d1ab46fb4b",
        "colab": {
          "base_uri": "https://localhost:8080/"
        }
      },
      "source": [
        "# Check accuracy of the model\n",
        "computeAccuracy(pred, yTest)"
      ],
      "execution_count": 49,
      "outputs": [
        {
          "output_type": "execute_result",
          "data": {
            "text/plain": [
              "0.828646748681898"
            ]
          },
          "metadata": {
            "tags": []
          },
          "execution_count": 49
        }
      ]
    },
    {
      "cell_type": "code",
      "metadata": {
        "id": "Vm9c3b0h1i8N"
      },
      "source": [
        ""
      ],
      "execution_count": null,
      "outputs": []
    }
  ]
}